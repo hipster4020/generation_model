{
 "cells": [
  {
   "cell_type": "markdown",
   "id": "6fc03bd3-b6dc-476d-bdef-0a9f674dea82",
   "metadata": {},
   "source": [
    "# Data Load"
   ]
  },
  {
   "cell_type": "code",
   "execution_count": 1,
   "id": "29e68892-da2b-4040-a545-32a98a520c42",
   "metadata": {},
   "outputs": [],
   "source": [
    "import config\n",
    "from pshmodule.utils import filemanager as fm"
   ]
  },
  {
   "cell_type": "code",
   "execution_count": 2,
   "id": "0672efcc-6914-45ca-b23a-67459175f21b",
   "metadata": {},
   "outputs": [
    {
     "name": "stdout",
     "output_type": "stream",
     "text": [
      "extension : .pickle\n",
      "Loaded 87689 records from /home/jovyan/shpark-datashare/data/practice/generation_model/data/data.pickle\n"
     ]
    }
   ],
   "source": [
    "df = fm.load(config.data_path)"
   ]
  },
  {
   "cell_type": "code",
   "execution_count": 3,
   "id": "5e1ed38d-c00a-4b3e-9c19-c4dab1af098e",
   "metadata": {},
   "outputs": [
    {
     "data": {
      "text/html": [
       "<div>\n",
       "<style scoped>\n",
       "    .dataframe tbody tr th:only-of-type {\n",
       "        vertical-align: middle;\n",
       "    }\n",
       "\n",
       "    .dataframe tbody tr th {\n",
       "        vertical-align: top;\n",
       "    }\n",
       "\n",
       "    .dataframe thead th {\n",
       "        text-align: right;\n",
       "    }\n",
       "</style>\n",
       "<table border=\"1\" class=\"dataframe\">\n",
       "  <thead>\n",
       "    <tr style=\"text-align: right;\">\n",
       "      <th></th>\n",
       "      <th>medianame</th>\n",
       "      <th>annotations.subject</th>\n",
       "      <th>annotations.speaker_type</th>\n",
       "      <th>annotations.text</th>\n",
       "    </tr>\n",
       "  </thead>\n",
       "  <tbody>\n",
       "    <tr>\n",
       "      <th>0</th>\n",
       "      <td>카카오톡</td>\n",
       "      <td>회사/아르바이트</td>\n",
       "      <td>1:1</td>\n",
       "      <td>1 : 이제 위드 코로나 하면 회식 시작하겠구만 키키\\n2 : 11월달부터 위드 코...</td>\n",
       "    </tr>\n",
       "    <tr>\n",
       "      <th>1</th>\n",
       "      <td>카카오톡</td>\n",
       "      <td>사회이슈</td>\n",
       "      <td>1:1</td>\n",
       "      <td>1 : 전기료가 오른다네... 세상에나\\n2 : 아 맞어 키로와트당 40원?\\n1 ...</td>\n",
       "    </tr>\n",
       "    <tr>\n",
       "      <th>2</th>\n",
       "      <td>카카오톡</td>\n",
       "      <td>계절/날씨</td>\n",
       "      <td>다자간 대화</td>\n",
       "      <td>1 : 오늘 아침에 비 많이 왔쪄 ㅠ\\n2 : 맞아요 ㅠㅠ 지난 새벽부터 엄청 내렸...</td>\n",
       "    </tr>\n",
       "    <tr>\n",
       "      <th>3</th>\n",
       "      <td>카카오톡</td>\n",
       "      <td>교통</td>\n",
       "      <td>다자간 대화</td>\n",
       "      <td>1 : 비행기 타고 싶다\\n2 : 진짜 언제 탈 수 있네 **이랑 탄 게 마지막.....</td>\n",
       "    </tr>\n",
       "    <tr>\n",
       "      <th>4</th>\n",
       "      <td>카카오톡</td>\n",
       "      <td>타 국가 이슈</td>\n",
       "      <td>1:1</td>\n",
       "      <td>1 : 미국 열차 안에서 성폭행 사건 있었대 ㅠㅠ\\n2 : 열차 안에서?\\n2 : ...</td>\n",
       "    </tr>\n",
       "  </tbody>\n",
       "</table>\n",
       "</div>"
      ],
      "text/plain": [
       "  medianame annotations.subject annotations.speaker_type  \\\n",
       "0      카카오톡            회사/아르바이트                      1:1   \n",
       "1      카카오톡                사회이슈                      1:1   \n",
       "2      카카오톡               계절/날씨                   다자간 대화   \n",
       "3      카카오톡                  교통                   다자간 대화   \n",
       "4      카카오톡             타 국가 이슈                      1:1   \n",
       "\n",
       "                                    annotations.text  \n",
       "0  1 : 이제 위드 코로나 하면 회식 시작하겠구만 키키\\n2 : 11월달부터 위드 코...  \n",
       "1  1 : 전기료가 오른다네... 세상에나\\n2 : 아 맞어 키로와트당 40원?\\n1 ...  \n",
       "2  1 : 오늘 아침에 비 많이 왔쪄 ㅠ\\n2 : 맞아요 ㅠㅠ 지난 새벽부터 엄청 내렸...  \n",
       "3  1 : 비행기 타고 싶다\\n2 : 진짜 언제 탈 수 있네 **이랑 탄 게 마지막.....  \n",
       "4  1 : 미국 열차 안에서 성폭행 사건 있었대 ㅠㅠ\\n2 : 열차 안에서?\\n2 : ...  "
      ]
     },
     "execution_count": 3,
     "metadata": {},
     "output_type": "execute_result"
    }
   ],
   "source": [
    "df.head()"
   ]
  },
  {
   "cell_type": "markdown",
   "id": "3a2bf30e-d68b-48fc-afc9-323f12f63809",
   "metadata": {},
   "source": [
    "### "
   ]
  },
  {
   "cell_type": "markdown",
   "id": "3e6ba23f-7262-41db-b1e3-9c96f5f73b48",
   "metadata": {},
   "source": [
    "# EDA"
   ]
  },
  {
   "cell_type": "code",
   "execution_count": 4,
   "id": "dc5d94f6-0f1c-4c69-85f0-20380198aad5",
   "metadata": {},
   "outputs": [
    {
     "name": "stdout",
     "output_type": "stream",
     "text": [
      "1 : 샘그때 어머님 환갑 준비한다고 하셨는데 뭐해요 키키\n",
      "2 : 쌤 안그래도 물어볼려고 했는데\n",
      "2 : 쌤 아버님 환갑때 식사 어디서 하셨나요?\n",
      "1 : 샘도 자주가는 오리고기집이요 키키\n",
      "1 : 이름이 기억안나네\n",
      "1 : **동에 있는데\n",
      "2 : 아! 솔밭가든이요\n",
      "2 : 울산 오리고기 하면 솔밭가든이죠 키키\n",
      "2 : 근데 요즘 코로나때문에 식사나 할 수 있을지 모르겠어요\n",
      "1 : 아 샘 그러면 집에서 먹어야겠네요\n",
      "1 : 생각해놓은거있어요? 키키\n",
      "2 : 12월이라서 상황을 지켜봐야할거 같긴한데...\n",
      "2 : 집에서 먹으면 배달 음식 먹겠죠? 키키\n",
      "2 : 쌤 혹시... 선물은 그냥 용돈이였나요?\n",
      "1 : 아 샘 12월이면 아직 멀었네 키키\n",
      "1 : 준비할 시간이 많군요\n",
      "1 : 네샘 현금드렸습니다 ...\n",
      "1 : 현금 제일 좋아하실것같아요 키키\n",
      "2 : sns 보니까 풍선 현수막 이런거 이쁘게 많이 하더라고요\n",
      "2 : 검색 좀 해봐야겠어요 키키\n"
     ]
    }
   ],
   "source": [
    "print(df['annotations.text'][30000])"
   ]
  },
  {
   "cell_type": "code",
   "execution_count": 5,
   "id": "6fa2caff-7453-4562-ad8e-fcd253555bed",
   "metadata": {},
   "outputs": [
    {
     "data": {
      "text/plain": [
       "(87689, 4)"
      ]
     },
     "execution_count": 5,
     "metadata": {},
     "output_type": "execute_result"
    }
   ],
   "source": [
    "df.shape"
   ]
  },
  {
   "cell_type": "code",
   "execution_count": 6,
   "id": "853c5a00-1d2d-4813-98ad-0fd2edcc68bc",
   "metadata": {},
   "outputs": [
    {
     "name": "stdout",
     "output_type": "stream",
     "text": [
      "카카오톡     71783\n",
      "페이스북      7918\n",
      "인스타그램     4777\n",
      "네이버밴드     1614\n",
      "네이트온      1597\n",
      "Name: medianame, dtype: int64\n",
      "------------------------------\n",
      "미용          4675\n",
      "스포츠/레저      4642\n",
      "교육          4575\n",
      "가족          4521\n",
      "상거래 전반      4514\n",
      "영화/만화       4503\n",
      "교통          4474\n",
      "여행          4464\n",
      "회사/아르바이트    4459\n",
      "건강          4454\n",
      "연애/결혼       4356\n",
      "게임          4352\n",
      "계절/날씨       4347\n",
      "방송/연예       4323\n",
      "사회이슈        4281\n",
      "주거와 생활      4259\n",
      "반려동물        4234\n",
      "군대          4151\n",
      "식음료         4132\n",
      "타 국가 이슈     3969\n",
      "상거래전반          4\n",
      "Name: annotations.subject, dtype: int64\n",
      "------------------------------\n",
      "1:1       64048\n",
      "다자간 대화    23641\n",
      "Name: annotations.speaker_type, dtype: int64\n"
     ]
    }
   ],
   "source": [
    "print(df['medianame'].value_counts())\n",
    "print(\"-\"*30)\n",
    "print(df['annotations.subject'].value_counts())\n",
    "print(\"-\"*30)\n",
    "print(df['annotations.speaker_type'].value_counts())"
   ]
  },
  {
   "cell_type": "markdown",
   "id": "b4132706-28fd-4344-87ad-03ca2adbec7a",
   "metadata": {},
   "source": [
    "### "
   ]
  },
  {
   "cell_type": "markdown",
   "id": "5dff7ba2-dba8-43da-8560-fcfbae98431f",
   "metadata": {},
   "source": [
    "# Preprocessing"
   ]
  },
  {
   "cell_type": "code",
   "execution_count": 7,
   "id": "c704a477-0a53-41d6-90ae-52a48eaffeeb",
   "metadata": {},
   "outputs": [],
   "source": [
    "import re"
   ]
  },
  {
   "cell_type": "code",
   "execution_count": 8,
   "id": "7e054d48-7715-4771-8199-5f01e89804b2",
   "metadata": {},
   "outputs": [],
   "source": [
    "def preprocessing(x):\n",
    "    result = x.replace('\\n', ' ').replace('키키', '').replace('하하', '').replace('ㅡㅡ', '').replace('ㅜㅜ', '').replace('ㅠ', '').replace('ㅠㅠ', '').replace('ㅋ', '').replace('ㅎ', '')\n",
    "    result = result.lower()\n",
    "    # result = re.sub(r'[.,-~?]', '', result)\n",
    "    return result"
   ]
  },
  {
   "cell_type": "code",
   "execution_count": 9,
   "id": "b490845e-fec7-44cc-88e5-da878e472b85",
   "metadata": {},
   "outputs": [],
   "source": [
    "df_temp = df[df['annotations.speaker_type'] == '1:1']"
   ]
  },
  {
   "cell_type": "code",
   "execution_count": 10,
   "id": "1ebbc3ce-2049-4d19-ac8e-1368d52ce1f6",
   "metadata": {},
   "outputs": [
    {
     "name": "stderr",
     "output_type": "stream",
     "text": [
      "<ipython-input-10-40832db47ac0>:1: SettingWithCopyWarning: \n",
      "A value is trying to be set on a copy of a slice from a DataFrame.\n",
      "Try using .loc[row_indexer,col_indexer] = value instead\n",
      "\n",
      "See the caveats in the documentation: https://pandas.pydata.org/pandas-docs/stable/user_guide/indexing.html#returning-a-view-versus-a-copy\n",
      "  df_temp['content'] = df['annotations.text'].apply(preprocessing)\n"
     ]
    }
   ],
   "source": [
    "df_temp['content'] = df['annotations.text'].apply(preprocessing)"
   ]
  },
  {
   "cell_type": "code",
   "execution_count": 11,
   "id": "08ecb1c0-9b60-4482-a062-c5e84feccf70",
   "metadata": {},
   "outputs": [
    {
     "data": {
      "text/html": [
       "<div>\n",
       "<style scoped>\n",
       "    .dataframe tbody tr th:only-of-type {\n",
       "        vertical-align: middle;\n",
       "    }\n",
       "\n",
       "    .dataframe tbody tr th {\n",
       "        vertical-align: top;\n",
       "    }\n",
       "\n",
       "    .dataframe thead th {\n",
       "        text-align: right;\n",
       "    }\n",
       "</style>\n",
       "<table border=\"1\" class=\"dataframe\">\n",
       "  <thead>\n",
       "    <tr style=\"text-align: right;\">\n",
       "      <th></th>\n",
       "      <th>medianame</th>\n",
       "      <th>annotations.subject</th>\n",
       "      <th>annotations.speaker_type</th>\n",
       "      <th>annotations.text</th>\n",
       "      <th>content</th>\n",
       "    </tr>\n",
       "  </thead>\n",
       "  <tbody>\n",
       "    <tr>\n",
       "      <th>87669</th>\n",
       "      <td>네이트온</td>\n",
       "      <td>가족</td>\n",
       "      <td>1:1</td>\n",
       "      <td>1 : 가족들 자주만나?\\n2 : 요즘은 바빠서 못 뵌지 오래됐어\\n1 : 그치? ...</td>\n",
       "      <td>1 : 가족들 자주만나? 2 : 요즘은 바빠서 못 뵌지 오래됐어 1 : 그치? 한달...</td>\n",
       "    </tr>\n",
       "    <tr>\n",
       "      <th>87673</th>\n",
       "      <td>네이트온</td>\n",
       "      <td>교육</td>\n",
       "      <td>1:1</td>\n",
       "      <td>1 : 큰 손녀가 수학학원에서 선생님 말씀을 존중하지 않았다고 합니다.\\n2 : 어...</td>\n",
       "      <td>1 : 큰 손녀가 수학학원에서 선생님 말씀을 존중하지 않았다고 합니다. 2 : 어떤...</td>\n",
       "    </tr>\n",
       "    <tr>\n",
       "      <th>87675</th>\n",
       "      <td>네이트온</td>\n",
       "      <td>교육</td>\n",
       "      <td>1:1</td>\n",
       "      <td>1 : 나 어제 요리학원에서 시험을 봤는데 재시험보래요.\\n2 : 떨어진거예요? 공...</td>\n",
       "      <td>1 : 나 어제 요리학원에서 시험을 봤는데 재시험보래요. 2 : 떨어진거예요? 공부...</td>\n",
       "    </tr>\n",
       "    <tr>\n",
       "      <th>87677</th>\n",
       "      <td>네이트온</td>\n",
       "      <td>방송/연예</td>\n",
       "      <td>1:1</td>\n",
       "      <td>1 : TV 프로그램 뭐 좋아해?\\n2 : 저는 런닝맨 좋아해요\\n2 : 언니는요?...</td>\n",
       "      <td>1 : tv 프로그램 뭐 좋아해? 2 : 저는 런닝맨 좋아해요 2 : 언니는요? 1...</td>\n",
       "    </tr>\n",
       "    <tr>\n",
       "      <th>87678</th>\n",
       "      <td>네이트온</td>\n",
       "      <td>미용</td>\n",
       "      <td>1:1</td>\n",
       "      <td>1 : 나 어깨가 너무 굽었어 ㅠㅠ\\n2 : 진짜 일자 어깨 너무 부러워\\n1 : ...</td>\n",
       "      <td>1 : 나 어깨가 너무 굽었어  2 : 진짜 일자 어깨 너무 부러워 1 : 그러니까...</td>\n",
       "    </tr>\n",
       "    <tr>\n",
       "      <th>87681</th>\n",
       "      <td>네이트온</td>\n",
       "      <td>미용</td>\n",
       "      <td>1:1</td>\n",
       "      <td>1 : 너 공짜로 머리하는법 알아?\\n2 : 공짜로? 어떻게 하는데?\\n1 : 인터...</td>\n",
       "      <td>1 : 너 공짜로 머리하는법 알아? 2 : 공짜로? 어떻게 하는데? 1 : 인터넷에...</td>\n",
       "    </tr>\n",
       "    <tr>\n",
       "      <th>87682</th>\n",
       "      <td>네이트온</td>\n",
       "      <td>반려동물</td>\n",
       "      <td>1:1</td>\n",
       "      <td>1 : 요즘 코로나 시대로 인해서 반려 동물을 많이 찾는다고 하는데 키우고 싶은 반...</td>\n",
       "      <td>1 : 요즘 코로나 시대로 인해서 반려 동물을 많이 찾는다고 하는데 키우고 싶은 반...</td>\n",
       "    </tr>\n",
       "    <tr>\n",
       "      <th>87683</th>\n",
       "      <td>네이트온</td>\n",
       "      <td>계절/날씨</td>\n",
       "      <td>1:1</td>\n",
       "      <td>1 : 낮은 나름 덥고 밤에는 엄청 추워ㅠㅠ\\n2 : 맞아 그래서 감기 걸리기 딱 ...</td>\n",
       "      <td>1 : 낮은 나름 덥고 밤에는 엄청 추워 2 : 맞아 그래서 감기 걸리기 딱 좋은 ...</td>\n",
       "    </tr>\n",
       "    <tr>\n",
       "      <th>87685</th>\n",
       "      <td>네이트온</td>\n",
       "      <td>교육</td>\n",
       "      <td>1:1</td>\n",
       "      <td>1 : 요즘 교육비 너무 많이 들어\\n2 : 그러게 말이야\\n1 : 유치원때부터 시...</td>\n",
       "      <td>1 : 요즘 교육비 너무 많이 들어 2 : 그러게 말이야 1 : 유치원때부터 시작이...</td>\n",
       "    </tr>\n",
       "    <tr>\n",
       "      <th>87688</th>\n",
       "      <td>네이트온</td>\n",
       "      <td>교육</td>\n",
       "      <td>1:1</td>\n",
       "      <td>1 : 친구 대학원 등록했대\\n2 : 와 공부에 대한 열정이 대단하다\\n1 : 나는...</td>\n",
       "      <td>1 : 친구 대학원 등록했대 2 : 와 공부에 대한 열정이 대단하다 1 : 나는 학...</td>\n",
       "    </tr>\n",
       "  </tbody>\n",
       "</table>\n",
       "</div>"
      ],
      "text/plain": [
       "      medianame annotations.subject annotations.speaker_type  \\\n",
       "87669      네이트온                  가족                      1:1   \n",
       "87673      네이트온                  교육                      1:1   \n",
       "87675      네이트온                  교육                      1:1   \n",
       "87677      네이트온               방송/연예                      1:1   \n",
       "87678      네이트온                  미용                      1:1   \n",
       "87681      네이트온                  미용                      1:1   \n",
       "87682      네이트온                반려동물                      1:1   \n",
       "87683      네이트온               계절/날씨                      1:1   \n",
       "87685      네이트온                  교육                      1:1   \n",
       "87688      네이트온                  교육                      1:1   \n",
       "\n",
       "                                        annotations.text  \\\n",
       "87669  1 : 가족들 자주만나?\\n2 : 요즘은 바빠서 못 뵌지 오래됐어\\n1 : 그치? ...   \n",
       "87673  1 : 큰 손녀가 수학학원에서 선생님 말씀을 존중하지 않았다고 합니다.\\n2 : 어...   \n",
       "87675  1 : 나 어제 요리학원에서 시험을 봤는데 재시험보래요.\\n2 : 떨어진거예요? 공...   \n",
       "87677  1 : TV 프로그램 뭐 좋아해?\\n2 : 저는 런닝맨 좋아해요\\n2 : 언니는요?...   \n",
       "87678  1 : 나 어깨가 너무 굽었어 ㅠㅠ\\n2 : 진짜 일자 어깨 너무 부러워\\n1 : ...   \n",
       "87681  1 : 너 공짜로 머리하는법 알아?\\n2 : 공짜로? 어떻게 하는데?\\n1 : 인터...   \n",
       "87682  1 : 요즘 코로나 시대로 인해서 반려 동물을 많이 찾는다고 하는데 키우고 싶은 반...   \n",
       "87683  1 : 낮은 나름 덥고 밤에는 엄청 추워ㅠㅠ\\n2 : 맞아 그래서 감기 걸리기 딱 ...   \n",
       "87685  1 : 요즘 교육비 너무 많이 들어\\n2 : 그러게 말이야\\n1 : 유치원때부터 시...   \n",
       "87688  1 : 친구 대학원 등록했대\\n2 : 와 공부에 대한 열정이 대단하다\\n1 : 나는...   \n",
       "\n",
       "                                                 content  \n",
       "87669  1 : 가족들 자주만나? 2 : 요즘은 바빠서 못 뵌지 오래됐어 1 : 그치? 한달...  \n",
       "87673  1 : 큰 손녀가 수학학원에서 선생님 말씀을 존중하지 않았다고 합니다. 2 : 어떤...  \n",
       "87675  1 : 나 어제 요리학원에서 시험을 봤는데 재시험보래요. 2 : 떨어진거예요? 공부...  \n",
       "87677  1 : tv 프로그램 뭐 좋아해? 2 : 저는 런닝맨 좋아해요 2 : 언니는요? 1...  \n",
       "87678  1 : 나 어깨가 너무 굽었어  2 : 진짜 일자 어깨 너무 부러워 1 : 그러니까...  \n",
       "87681  1 : 너 공짜로 머리하는법 알아? 2 : 공짜로? 어떻게 하는데? 1 : 인터넷에...  \n",
       "87682  1 : 요즘 코로나 시대로 인해서 반려 동물을 많이 찾는다고 하는데 키우고 싶은 반...  \n",
       "87683  1 : 낮은 나름 덥고 밤에는 엄청 추워 2 : 맞아 그래서 감기 걸리기 딱 좋은 ...  \n",
       "87685  1 : 요즘 교육비 너무 많이 들어 2 : 그러게 말이야 1 : 유치원때부터 시작이...  \n",
       "87688  1 : 친구 대학원 등록했대 2 : 와 공부에 대한 열정이 대단하다 1 : 나는 학...  "
      ]
     },
     "execution_count": 11,
     "metadata": {},
     "output_type": "execute_result"
    }
   ],
   "source": [
    "df_temp.tail(10)"
   ]
  },
  {
   "cell_type": "code",
   "execution_count": 12,
   "id": "81258bab-5274-4365-a9c0-3b62cc703e65",
   "metadata": {},
   "outputs": [
    {
     "name": "stdout",
     "output_type": "stream",
     "text": [
      "1 : 친구 대학원 등록했대\n",
      "2 : 와 공부에 대한 열정이 대단하다\n",
      "1 : 나는 학교 졸업하고 전공 접은지 오래야\n",
      "2 : 나도 거의 회사일만 했는데\n",
      "1 : 이번에 석사 준비한대\n",
      "2 : 회사 다니면서 다닌대?\n",
      "1 : 응 야간대학원이라 병행한대\n",
      "2 : 허락해준 회사도 대단하다\n",
      "1 : 그 친구 아마 박사도 노릴건가봐\n",
      "2 : 나도 공부에 뜻이 있었으면 좋겠다\n",
      "1 : 친구 대학원 등록했대 2 : 와 공부에 대한 열정이 대단하다 1 : 나는 학교 졸업하고 전공 접은지 오래야 2 : 나도 거의 회사일만 했는데 1 : 이번에 석사 준비한대 2 : 회사 다니면서 다닌대? 1 : 응 야간대학원이라 병행한대 2 : 허락해준 회사도 대단하다 1 : 그 친구 아마 박사도 노릴건가봐 2 : 나도 공부에 뜻이 있었으면 좋겠다\n"
     ]
    }
   ],
   "source": [
    "print(df['annotations.text'][87688])\n",
    "print(df_temp.content[87688])"
   ]
  },
  {
   "cell_type": "code",
   "execution_count": 13,
   "id": "352642b9-2c24-4260-a64d-f632f13227b7",
   "metadata": {},
   "outputs": [],
   "source": [
    "df_temp.reset_index(drop=True, inplace=True)"
   ]
  },
  {
   "cell_type": "code",
   "execution_count": 14,
   "id": "b76a01fa-c47c-4fea-ac6c-68074fcd0762",
   "metadata": {},
   "outputs": [
    {
     "data": {
      "text/html": [
       "<div>\n",
       "<style scoped>\n",
       "    .dataframe tbody tr th:only-of-type {\n",
       "        vertical-align: middle;\n",
       "    }\n",
       "\n",
       "    .dataframe tbody tr th {\n",
       "        vertical-align: top;\n",
       "    }\n",
       "\n",
       "    .dataframe thead th {\n",
       "        text-align: right;\n",
       "    }\n",
       "</style>\n",
       "<table border=\"1\" class=\"dataframe\">\n",
       "  <thead>\n",
       "    <tr style=\"text-align: right;\">\n",
       "      <th></th>\n",
       "      <th>medianame</th>\n",
       "      <th>annotations.subject</th>\n",
       "      <th>annotations.speaker_type</th>\n",
       "      <th>annotations.text</th>\n",
       "      <th>content</th>\n",
       "    </tr>\n",
       "  </thead>\n",
       "  <tbody>\n",
       "    <tr>\n",
       "      <th>0</th>\n",
       "      <td>카카오톡</td>\n",
       "      <td>회사/아르바이트</td>\n",
       "      <td>1:1</td>\n",
       "      <td>1 : 이제 위드 코로나 하면 회식 시작하겠구만 키키\\n2 : 11월달부터 위드 코...</td>\n",
       "      <td>1 : 이제 위드 코로나 하면 회식 시작하겠구만  2 : 11월달부터 위드 코로나 ...</td>\n",
       "    </tr>\n",
       "    <tr>\n",
       "      <th>1</th>\n",
       "      <td>카카오톡</td>\n",
       "      <td>사회이슈</td>\n",
       "      <td>1:1</td>\n",
       "      <td>1 : 전기료가 오른다네... 세상에나\\n2 : 아 맞어 키로와트당 40원?\\n1 ...</td>\n",
       "      <td>1 : 전기료가 오른다네... 세상에나 2 : 아 맞어 키로와트당 40원? 1 : ...</td>\n",
       "    </tr>\n",
       "    <tr>\n",
       "      <th>2</th>\n",
       "      <td>카카오톡</td>\n",
       "      <td>타 국가 이슈</td>\n",
       "      <td>1:1</td>\n",
       "      <td>1 : 미국 열차 안에서 성폭행 사건 있었대 ㅠㅠ\\n2 : 열차 안에서?\\n2 : ...</td>\n",
       "      <td>1 : 미국 열차 안에서 성폭행 사건 있었대  2 : 열차 안에서? 2 : 그게 가...</td>\n",
       "    </tr>\n",
       "    <tr>\n",
       "      <th>3</th>\n",
       "      <td>카카오톡</td>\n",
       "      <td>군대</td>\n",
       "      <td>1:1</td>\n",
       "      <td>1 : 남자친구는 육군 나왔어~?\\n2 : 육군 나왔어ㅋ 50사단인가?\\n1 : 육...</td>\n",
       "      <td>1 : 남자친구는 육군 나왔어~? 2 : 육군 나왔어 50사단인가? 1 : 육군 5...</td>\n",
       "    </tr>\n",
       "    <tr>\n",
       "      <th>4</th>\n",
       "      <td>카카오톡</td>\n",
       "      <td>영화/만화</td>\n",
       "      <td>1:1</td>\n",
       "      <td>1 : 너는 최근에 무슨 영화 봤어? 키키\\n2 : 최근에 영화관 간 기억이 없네요...</td>\n",
       "      <td>1 : 너는 최근에 무슨 영화 봤어?  2 : 최근에 영화관 간 기억이 없네요 1 ...</td>\n",
       "    </tr>\n",
       "  </tbody>\n",
       "</table>\n",
       "</div>"
      ],
      "text/plain": [
       "  medianame annotations.subject annotations.speaker_type  \\\n",
       "0      카카오톡            회사/아르바이트                      1:1   \n",
       "1      카카오톡                사회이슈                      1:1   \n",
       "2      카카오톡             타 국가 이슈                      1:1   \n",
       "3      카카오톡                  군대                      1:1   \n",
       "4      카카오톡               영화/만화                      1:1   \n",
       "\n",
       "                                    annotations.text  \\\n",
       "0  1 : 이제 위드 코로나 하면 회식 시작하겠구만 키키\\n2 : 11월달부터 위드 코...   \n",
       "1  1 : 전기료가 오른다네... 세상에나\\n2 : 아 맞어 키로와트당 40원?\\n1 ...   \n",
       "2  1 : 미국 열차 안에서 성폭행 사건 있었대 ㅠㅠ\\n2 : 열차 안에서?\\n2 : ...   \n",
       "3  1 : 남자친구는 육군 나왔어~?\\n2 : 육군 나왔어ㅋ 50사단인가?\\n1 : 육...   \n",
       "4  1 : 너는 최근에 무슨 영화 봤어? 키키\\n2 : 최근에 영화관 간 기억이 없네요...   \n",
       "\n",
       "                                             content  \n",
       "0  1 : 이제 위드 코로나 하면 회식 시작하겠구만  2 : 11월달부터 위드 코로나 ...  \n",
       "1  1 : 전기료가 오른다네... 세상에나 2 : 아 맞어 키로와트당 40원? 1 : ...  \n",
       "2  1 : 미국 열차 안에서 성폭행 사건 있었대  2 : 열차 안에서? 2 : 그게 가...  \n",
       "3  1 : 남자친구는 육군 나왔어~? 2 : 육군 나왔어 50사단인가? 1 : 육군 5...  \n",
       "4  1 : 너는 최근에 무슨 영화 봤어?  2 : 최근에 영화관 간 기억이 없네요 1 ...  "
      ]
     },
     "execution_count": 14,
     "metadata": {},
     "output_type": "execute_result"
    }
   ],
   "source": [
    "df_temp.head()"
   ]
  },
  {
   "cell_type": "markdown",
   "id": "fca6f5a6-3e3c-4708-b636-be9602b0b886",
   "metadata": {},
   "source": [
    "### "
   ]
  },
  {
   "cell_type": "markdown",
   "id": "c1c0eec5-b7ea-496c-a840-9f152c50af1c",
   "metadata": {},
   "source": [
    "# Transform"
   ]
  },
  {
   "cell_type": "code",
   "execution_count": 15,
   "id": "d9cc9c26-e62a-4f71-be92-db244d94c21a",
   "metadata": {},
   "outputs": [],
   "source": [
    "result_data = []\n",
    "\n",
    "for k, v in enumerate(df_temp.iterrows()):\n",
    "    temp_data = v[1]['content'].replace('1 :', ' 1 :').replace('2 :', ' 2 :').replace(' :  ', ':').replace(' : ', ':')\n",
    "    split_data = temp_data.split('  ')\n",
    "    split_data = [i.replace(' 1:', '1:').replace(' 2:', '2:') for i in split_data]\n",
    "\n",
    "    result = []\n",
    "    for kk, vv in enumerate(split_data):\n",
    "        if len(result) != 0:\n",
    "            if result[kk-1].startswith('1:') and vv.startswith('1:'):\n",
    "                result.append(str(result[kk-1]) + \" \" + vv)\n",
    "                continue\n",
    "            elif result[kk-1].startswith('2:') and vv.startswith('2:'):\n",
    "                result.append(str(result[kk-1]) + \" \" + vv)\n",
    "                continue\n",
    "            elif not vv.startswith('1:') and not vv.startswith('2:'):\n",
    "                result.append(str(result[kk-1]) + \" \" + vv)\n",
    "                continue\n",
    "        result.append(vv)\n",
    "    \n",
    "    result2 = []\n",
    "    for kkk, vvv in enumerate(result):\n",
    "        if kkk != len(result)-1:\n",
    "            if result[kkk+1].startswith(result[kkk]):\n",
    "                pass\n",
    "            else:\n",
    "                result2.append(result[kkk])\n",
    "\n",
    "    result_data.append(result2)"
   ]
  },
  {
   "cell_type": "code",
   "execution_count": 16,
   "id": "527723ee-6565-4c4a-bdf4-da79292d36c0",
   "metadata": {},
   "outputs": [
    {
     "name": "stderr",
     "output_type": "stream",
     "text": [
      "IOPub data rate exceeded.\n",
      "The Jupyter server will temporarily stop sending output\n",
      "to the client in order to avoid crashing it.\n",
      "To change this limit, set the config variable\n",
      "`--ServerApp.iopub_data_rate_limit`.\n",
      "\n",
      "Current values:\n",
      "ServerApp.iopub_data_rate_limit=1000000.0 (bytes/sec)\n",
      "ServerApp.rate_limit_window=3.0 (secs)\n",
      "\n"
     ]
    }
   ],
   "source": [
    "print(result_data)"
   ]
  },
  {
   "cell_type": "markdown",
   "id": "37cdeb4d-064c-45df-b020-c9cf292ef9f9",
   "metadata": {},
   "source": [
    "### "
   ]
  },
  {
   "cell_type": "markdown",
   "id": "7df73988-e54a-4a76-8c95-352842985fa4",
   "metadata": {},
   "source": [
    "# Create DefaultDict & DataFrame"
   ]
  },
  {
   "cell_type": "code",
   "execution_count": 17,
   "id": "9874022e-9e5a-45ca-825b-e9502b04d41d",
   "metadata": {},
   "outputs": [],
   "source": [
    "import pandas as pd\n",
    "from collections import defaultdict"
   ]
  },
  {
   "cell_type": "code",
   "execution_count": 18,
   "id": "7de29ec2-5636-4c9e-9ef6-27a54667f7ae",
   "metadata": {},
   "outputs": [],
   "source": [
    "result_dict = defaultdict(list)\n",
    "\n",
    "for k, v in enumerate(result_data):\n",
    "    for kk, vv in enumerate(v):\n",
    "        result_dict[f\"{k}_{kk}\"].append(vv)"
   ]
  },
  {
   "cell_type": "code",
   "execution_count": 19,
   "id": "d2d31d51-d65c-47bb-9f10-91901ca7174e",
   "metadata": {},
   "outputs": [],
   "source": [
    "df = pd.DataFrame.from_dict(result_dict, orient='index')"
   ]
  },
  {
   "cell_type": "code",
   "execution_count": 20,
   "id": "810801b1-2c1f-4402-99d1-db1c5e02d2cf",
   "metadata": {},
   "outputs": [],
   "source": [
    "df.reset_index(inplace=True)"
   ]
  },
  {
   "cell_type": "code",
   "execution_count": 21,
   "id": "8b4aa03c-f6d3-4582-bc2f-6215377714e5",
   "metadata": {},
   "outputs": [
    {
     "data": {
      "text/html": [
       "<div>\n",
       "<style scoped>\n",
       "    .dataframe tbody tr th:only-of-type {\n",
       "        vertical-align: middle;\n",
       "    }\n",
       "\n",
       "    .dataframe tbody tr th {\n",
       "        vertical-align: top;\n",
       "    }\n",
       "\n",
       "    .dataframe thead th {\n",
       "        text-align: right;\n",
       "    }\n",
       "</style>\n",
       "<table border=\"1\" class=\"dataframe\">\n",
       "  <thead>\n",
       "    <tr style=\"text-align: right;\">\n",
       "      <th></th>\n",
       "      <th>index</th>\n",
       "      <th>0</th>\n",
       "    </tr>\n",
       "  </thead>\n",
       "  <tbody>\n",
       "    <tr>\n",
       "      <th>0</th>\n",
       "      <td>0_0</td>\n",
       "      <td>1:이제 위드 코로나 하면 회식 시작하겠구만</td>\n",
       "    </tr>\n",
       "    <tr>\n",
       "      <th>1</th>\n",
       "      <td>0_1</td>\n",
       "      <td>2:11월달부터 위드 코로나 하려나 보던데요</td>\n",
       "    </tr>\n",
       "    <tr>\n",
       "      <th>2</th>\n",
       "      <td>0_2</td>\n",
       "      <td>1:그러게 슬슬 준비하고 있네</td>\n",
       "    </tr>\n",
       "    <tr>\n",
       "      <th>3</th>\n",
       "      <td>0_3</td>\n",
       "      <td>2:회식 좋아하는 사람들에게 희소식이겠네요</td>\n",
       "    </tr>\n",
       "    <tr>\n",
       "      <th>4</th>\n",
       "      <td>0_4</td>\n",
       "      <td>1:그러게 신입 사원들은 이제 큰일이네</td>\n",
       "    </tr>\n",
       "  </tbody>\n",
       "</table>\n",
       "</div>"
      ],
      "text/plain": [
       "  index                         0\n",
       "0   0_0  1:이제 위드 코로나 하면 회식 시작하겠구만\n",
       "1   0_1  2:11월달부터 위드 코로나 하려나 보던데요\n",
       "2   0_2          1:그러게 슬슬 준비하고 있네\n",
       "3   0_3   2:회식 좋아하는 사람들에게 희소식이겠네요\n",
       "4   0_4     1:그러게 신입 사원들은 이제 큰일이네"
      ]
     },
     "execution_count": 21,
     "metadata": {},
     "output_type": "execute_result"
    }
   ],
   "source": [
    "df.head()"
   ]
  },
  {
   "cell_type": "code",
   "execution_count": 22,
   "id": "8573c504-fd3b-4dc8-9bbd-235fb05e9eae",
   "metadata": {},
   "outputs": [],
   "source": [
    "df.rename(columns={0:'content', 'index':'room'}, inplace=True)"
   ]
  },
  {
   "cell_type": "code",
   "execution_count": 23,
   "id": "61135e10-e0e9-4c29-9c47-141da473cdfc",
   "metadata": {},
   "outputs": [],
   "source": [
    "df['room_no'] = df.room.apply(lambda x: x[:1])"
   ]
  },
  {
   "cell_type": "code",
   "execution_count": 24,
   "id": "bb7e59de-a0e2-491b-a3ef-926078ed7c2b",
   "metadata": {},
   "outputs": [],
   "source": [
    "df['speaker'] = df.content.apply(lambda x: x[:1])"
   ]
  },
  {
   "cell_type": "code",
   "execution_count": 25,
   "id": "9feed2db-6bd6-4555-8ba5-d5b8b2478a94",
   "metadata": {},
   "outputs": [],
   "source": [
    "df['content'] = df.content.apply(lambda x: x.replace('1:', '').replace('2:', ''))"
   ]
  },
  {
   "cell_type": "code",
   "execution_count": 26,
   "id": "4dc40016-973a-4e09-9f5e-79c9fa65c010",
   "metadata": {},
   "outputs": [],
   "source": [
    "del df['room']"
   ]
  },
  {
   "cell_type": "code",
   "execution_count": 27,
   "id": "13212235-64b4-4eb9-98b3-c5b81c86f52f",
   "metadata": {},
   "outputs": [
    {
     "data": {
      "text/html": [
       "<div>\n",
       "<style scoped>\n",
       "    .dataframe tbody tr th:only-of-type {\n",
       "        vertical-align: middle;\n",
       "    }\n",
       "\n",
       "    .dataframe tbody tr th {\n",
       "        vertical-align: top;\n",
       "    }\n",
       "\n",
       "    .dataframe thead th {\n",
       "        text-align: right;\n",
       "    }\n",
       "</style>\n",
       "<table border=\"1\" class=\"dataframe\">\n",
       "  <thead>\n",
       "    <tr style=\"text-align: right;\">\n",
       "      <th></th>\n",
       "      <th>content</th>\n",
       "      <th>room_no</th>\n",
       "      <th>speaker</th>\n",
       "    </tr>\n",
       "  </thead>\n",
       "  <tbody>\n",
       "    <tr>\n",
       "      <th>0</th>\n",
       "      <td>이제 위드 코로나 하면 회식 시작하겠구만</td>\n",
       "      <td>0</td>\n",
       "      <td>1</td>\n",
       "    </tr>\n",
       "    <tr>\n",
       "      <th>1</th>\n",
       "      <td>11월달부터 위드 코로나 하려나 보던데요</td>\n",
       "      <td>0</td>\n",
       "      <td>2</td>\n",
       "    </tr>\n",
       "    <tr>\n",
       "      <th>2</th>\n",
       "      <td>그러게 슬슬 준비하고 있네</td>\n",
       "      <td>0</td>\n",
       "      <td>1</td>\n",
       "    </tr>\n",
       "    <tr>\n",
       "      <th>3</th>\n",
       "      <td>회식 좋아하는 사람들에게 희소식이겠네요</td>\n",
       "      <td>0</td>\n",
       "      <td>2</td>\n",
       "    </tr>\n",
       "    <tr>\n",
       "      <th>4</th>\n",
       "      <td>그러게 신입 사원들은 이제 큰일이네</td>\n",
       "      <td>0</td>\n",
       "      <td>1</td>\n",
       "    </tr>\n",
       "    <tr>\n",
       "      <th>5</th>\n",
       "      <td>아 그렇겠네요 신입들은 회식을 피하고 싶겠네요</td>\n",
       "      <td>0</td>\n",
       "      <td>2</td>\n",
       "    </tr>\n",
       "    <tr>\n",
       "      <th>6</th>\n",
       "      <td>뭐 글도 올라온대 회식 어떻게 하냐고</td>\n",
       "      <td>0</td>\n",
       "      <td>1</td>\n",
       "    </tr>\n",
       "    <tr>\n",
       "      <th>7</th>\n",
       "      <td>회식 문화 좀 사라질 줄 알았는데 더 가열차지는 거 아니에요</td>\n",
       "      <td>0</td>\n",
       "      <td>2</td>\n",
       "    </tr>\n",
       "    <tr>\n",
       "      <th>8</th>\n",
       "      <td>그러게 난리 나겠다 진짜 송년회 신년회 다 할 듯</td>\n",
       "      <td>0</td>\n",
       "      <td>1</td>\n",
       "    </tr>\n",
       "    <tr>\n",
       "      <th>9</th>\n",
       "      <td>와 생각만 해도 술 냄새 나네요</td>\n",
       "      <td>0</td>\n",
       "      <td>2</td>\n",
       "    </tr>\n",
       "    <tr>\n",
       "      <th>10</th>\n",
       "      <td>이제 술술술 시작인가요</td>\n",
       "      <td>0</td>\n",
       "      <td>1</td>\n",
       "    </tr>\n",
       "    <tr>\n",
       "      <th>11</th>\n",
       "      <td>전 술 좋아해서 별 생각 없긴 한데</td>\n",
       "      <td>0</td>\n",
       "      <td>2</td>\n",
       "    </tr>\n",
       "    <tr>\n",
       "      <th>12</th>\n",
       "      <td>뭐 그러면 공짜 술 먹고 좋지 아직 체력이 좋네</td>\n",
       "      <td>0</td>\n",
       "      <td>1</td>\n",
       "    </tr>\n",
       "    <tr>\n",
       "      <th>13</th>\n",
       "      <td>형은 회식 별로 안 좋아하나 봐요?</td>\n",
       "      <td>0</td>\n",
       "      <td>2</td>\n",
       "    </tr>\n",
       "    <tr>\n",
       "      <th>14</th>\n",
       "      <td>좋아는 하지만 이제 다음날 출근이 힘들어서 출근 안 하고 회식했으면</td>\n",
       "      <td>0</td>\n",
       "      <td>1</td>\n",
       "    </tr>\n",
       "    <tr>\n",
       "      <th>15</th>\n",
       "      <td>전기료가 오른다네... 세상에나</td>\n",
       "      <td>1</td>\n",
       "      <td>1</td>\n",
       "    </tr>\n",
       "    <tr>\n",
       "      <th>16</th>\n",
       "      <td>아 맞어 키로와트당 40원?</td>\n",
       "      <td>1</td>\n",
       "      <td>2</td>\n",
       "    </tr>\n",
       "    <tr>\n",
       "      <th>17</th>\n",
       "      <td>안 오르는 게 없어요</td>\n",
       "      <td>1</td>\n",
       "      <td>1</td>\n",
       "    </tr>\n",
       "    <tr>\n",
       "      <th>18</th>\n",
       "      <td>물가는 다 오르는데 인건비는 왜.</td>\n",
       "      <td>1</td>\n",
       "      <td>2</td>\n",
       "    </tr>\n",
       "    <tr>\n",
       "      <th>19</th>\n",
       "      <td>알제 전기료 오르면 모든 게 다 오른다고</td>\n",
       "      <td>1</td>\n",
       "      <td>1</td>\n",
       "    </tr>\n",
       "  </tbody>\n",
       "</table>\n",
       "</div>"
      ],
      "text/plain": [
       "                                  content room_no speaker\n",
       "0                  이제 위드 코로나 하면 회식 시작하겠구만       0       1\n",
       "1                  11월달부터 위드 코로나 하려나 보던데요       0       2\n",
       "2                          그러게 슬슬 준비하고 있네       0       1\n",
       "3                   회식 좋아하는 사람들에게 희소식이겠네요       0       2\n",
       "4                     그러게 신입 사원들은 이제 큰일이네       0       1\n",
       "5               아 그렇겠네요 신입들은 회식을 피하고 싶겠네요       0       2\n",
       "6                    뭐 글도 올라온대 회식 어떻게 하냐고       0       1\n",
       "7       회식 문화 좀 사라질 줄 알았는데 더 가열차지는 거 아니에요       0       2\n",
       "8             그러게 난리 나겠다 진짜 송년회 신년회 다 할 듯       0       1\n",
       "9                       와 생각만 해도 술 냄새 나네요       0       2\n",
       "10                           이제 술술술 시작인가요       0       1\n",
       "11                    전 술 좋아해서 별 생각 없긴 한데       0       2\n",
       "12             뭐 그러면 공짜 술 먹고 좋지 아직 체력이 좋네       0       1\n",
       "13                    형은 회식 별로 안 좋아하나 봐요?       0       2\n",
       "14  좋아는 하지만 이제 다음날 출근이 힘들어서 출근 안 하고 회식했으면       0       1\n",
       "15                      전기료가 오른다네... 세상에나       1       1\n",
       "16                        아 맞어 키로와트당 40원?       1       2\n",
       "17                            안 오르는 게 없어요       1       1\n",
       "18                     물가는 다 오르는데 인건비는 왜.       1       2\n",
       "19                 알제 전기료 오르면 모든 게 다 오른다고       1       1"
      ]
     },
     "execution_count": 27,
     "metadata": {},
     "output_type": "execute_result"
    }
   ],
   "source": [
    "df.head(20)"
   ]
  },
  {
   "cell_type": "code",
   "execution_count": 28,
   "id": "8f953f17-6787-44a2-902c-850f6f306d81",
   "metadata": {},
   "outputs": [
    {
     "data": {
      "text/plain": [
       "(727031, 3)"
      ]
     },
     "execution_count": 28,
     "metadata": {},
     "output_type": "execute_result"
    }
   ],
   "source": [
    "df.shape"
   ]
  },
  {
   "cell_type": "markdown",
   "id": "4bbe7595-171c-45f7-b4c5-e7a0ddbb32cd",
   "metadata": {},
   "source": [
    "# "
   ]
  },
  {
   "cell_type": "markdown",
   "id": "b37d826d-e076-4718-a817-9975a07471ee",
   "metadata": {},
   "source": [
    "# Data Save"
   ]
  },
  {
   "cell_type": "code",
   "execution_count": 29,
   "id": "207ef831-d0db-40ae-90fb-78f73b2d7765",
   "metadata": {},
   "outputs": [
    {
     "name": "stdout",
     "output_type": "stream",
     "text": [
      "Saved 727031 records\n"
     ]
    }
   ],
   "source": [
    "fm.save(config.train_pickle, df)"
   ]
  },
  {
   "cell_type": "markdown",
   "id": "029f87e3-0494-4dc0-8345-8e43cb44725b",
   "metadata": {},
   "source": [
    "# "
   ]
  },
  {
   "cell_type": "markdown",
   "id": "2ff71521-f913-412e-a18e-d13594952621",
   "metadata": {},
   "source": [
    "# json save"
   ]
  },
  {
   "cell_type": "code",
   "execution_count": 1,
   "id": "0b13cf6a-2a23-497e-9bb3-add4a61523db",
   "metadata": {},
   "outputs": [],
   "source": [
    "import json\n",
    "import config\n",
    "from pshmodule.utils import filemanager as fm"
   ]
  },
  {
   "cell_type": "code",
   "execution_count": 2,
   "id": "7bd6496a-ba5e-4f4d-8fde-5b155f4a3c5b",
   "metadata": {},
   "outputs": [
    {
     "name": "stdout",
     "output_type": "stream",
     "text": [
      "extension : .pickle\n",
      "Loaded 727031 records from /home/jovyan/shpark-datashare/data/practice/generation_model/data/train.pickle\n"
     ]
    }
   ],
   "source": [
    "df = fm.load(config.train_pickle)"
   ]
  },
  {
   "cell_type": "code",
   "execution_count": 3,
   "id": "bfff5ccf-9f9a-49b1-9681-f1ea6393649e",
   "metadata": {},
   "outputs": [
    {
     "data": {
      "text/html": [
       "<div>\n",
       "<style scoped>\n",
       "    .dataframe tbody tr th:only-of-type {\n",
       "        vertical-align: middle;\n",
       "    }\n",
       "\n",
       "    .dataframe tbody tr th {\n",
       "        vertical-align: top;\n",
       "    }\n",
       "\n",
       "    .dataframe thead th {\n",
       "        text-align: right;\n",
       "    }\n",
       "</style>\n",
       "<table border=\"1\" class=\"dataframe\">\n",
       "  <thead>\n",
       "    <tr style=\"text-align: right;\">\n",
       "      <th></th>\n",
       "      <th>content</th>\n",
       "      <th>room_no</th>\n",
       "      <th>speaker</th>\n",
       "    </tr>\n",
       "  </thead>\n",
       "  <tbody>\n",
       "    <tr>\n",
       "      <th>0</th>\n",
       "      <td>이제 위드 코로나 하면 회식 시작하겠구만</td>\n",
       "      <td>0</td>\n",
       "      <td>1</td>\n",
       "    </tr>\n",
       "    <tr>\n",
       "      <th>1</th>\n",
       "      <td>11월달부터 위드 코로나 하려나 보던데요</td>\n",
       "      <td>0</td>\n",
       "      <td>2</td>\n",
       "    </tr>\n",
       "    <tr>\n",
       "      <th>2</th>\n",
       "      <td>그러게 슬슬 준비하고 있네</td>\n",
       "      <td>0</td>\n",
       "      <td>1</td>\n",
       "    </tr>\n",
       "    <tr>\n",
       "      <th>3</th>\n",
       "      <td>회식 좋아하는 사람들에게 희소식이겠네요</td>\n",
       "      <td>0</td>\n",
       "      <td>2</td>\n",
       "    </tr>\n",
       "    <tr>\n",
       "      <th>4</th>\n",
       "      <td>그러게 신입 사원들은 이제 큰일이네</td>\n",
       "      <td>0</td>\n",
       "      <td>1</td>\n",
       "    </tr>\n",
       "  </tbody>\n",
       "</table>\n",
       "</div>"
      ],
      "text/plain": [
       "                  content room_no speaker\n",
       "0  이제 위드 코로나 하면 회식 시작하겠구만       0       1\n",
       "1  11월달부터 위드 코로나 하려나 보던데요       0       2\n",
       "2          그러게 슬슬 준비하고 있네       0       1\n",
       "3   회식 좋아하는 사람들에게 희소식이겠네요       0       2\n",
       "4     그러게 신입 사원들은 이제 큰일이네       0       1"
      ]
     },
     "execution_count": 3,
     "metadata": {},
     "output_type": "execute_result"
    }
   ],
   "source": [
    "df.head()"
   ]
  },
  {
   "cell_type": "code",
   "execution_count": 4,
   "id": "098010c1-cb14-4d81-9fb1-efc573da831a",
   "metadata": {},
   "outputs": [],
   "source": [
    "temp_dict = [{\"content\": row['content'], \"room_no\": row['room_no'], \"speaker\": row['speaker']} for _, row in df.iterrows()]"
   ]
  },
  {
   "cell_type": "code",
   "execution_count": 5,
   "id": "036b7269-187b-4eef-9833-23f3867bb136",
   "metadata": {},
   "outputs": [],
   "source": [
    "with open(config.train_json, 'w', encoding='utf-8') as f:\n",
    "    for line in temp_dict:\n",
    "        json_record = json.dumps(line, ensure_ascii=False)\n",
    "        f.write(json_record + '\\n')"
   ]
  },
  {
   "cell_type": "code",
   "execution_count": null,
   "id": "52f3d2ab-cdc5-496b-806e-44b499419a87",
   "metadata": {},
   "outputs": [],
   "source": []
  }
 ],
 "metadata": {
  "kernelspec": {
   "display_name": "Python 3",
   "language": "python",
   "name": "python3"
  },
  "language_info": {
   "codemirror_mode": {
    "name": "ipython",
    "version": 3
   },
   "file_extension": ".py",
   "mimetype": "text/x-python",
   "name": "python",
   "nbconvert_exporter": "python",
   "pygments_lexer": "ipython3",
   "version": "3.8.10"
  }
 },
 "nbformat": 4,
 "nbformat_minor": 5
}
