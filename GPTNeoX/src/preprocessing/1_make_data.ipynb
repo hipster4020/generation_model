{
 "cells": [
  {
   "cell_type": "markdown",
   "id": "35999115-ebfd-417b-bfea-ca51fc4777e6",
   "metadata": {},
   "source": [
    "# Data Load"
   ]
  },
  {
   "cell_type": "code",
   "execution_count": 1,
   "id": "0e843713-0e32-424c-b518-782067976b1b",
   "metadata": {},
   "outputs": [],
   "source": [
    "import os\n",
    "import json\n",
    "from tqdm import tqdm\n",
    "import pandas as pd\n",
    "from pandas.io.json import json_normalize\n",
    "\n",
    "import config\n",
    "from pshmodule.utils import filemanager as fm"
   ]
  },
  {
   "cell_type": "code",
   "execution_count": 2,
   "id": "2e86c443-bebd-49e7-9c44-4a0900df6836",
   "metadata": {},
   "outputs": [],
   "source": [
    "file_list = []\n",
    "data_path = config.train_path\n",
    "dir_path = data_path\n",
    "for (root, directories, files) in os.walk(dir_path):\n",
    "    for file in files:\n",
    "        file_path = os.path.join(root, file)\n",
    "        file_list.append(file_path.replace(data_path, ''))"
   ]
  },
  {
   "cell_type": "code",
   "execution_count": 3,
   "id": "e20de25d-ad7b-489b-b92f-5cbb7badbf0c",
   "metadata": {},
   "outputs": [
    {
     "name": "stderr",
     "output_type": "stream",
     "text": [
      "0it [00:00, ?it/s]<ipython-input-3-807406e6f240>:5: FutureWarning: pandas.io.json.json_normalize is deprecated, use pandas.json_normalize instead\n",
      "  globals()[f\"df_{k}\"] = json_normalize(js, 'info')\n",
      "87689it [02:00, 729.07it/s]\n"
     ]
    }
   ],
   "source": [
    "for k, v in tqdm(enumerate(file_list)):\n",
    "    try:\n",
    "        with open(data_path + v, encoding='utf-8') as f:\n",
    "            js = json.loads(f.read())\n",
    "        globals()[f\"df_{k}\"] = json_normalize(js, 'info')\n",
    "    except Exception as e:\n",
    "        print(file_path + v)"
   ]
  },
  {
   "cell_type": "code",
   "execution_count": 4,
   "id": "c9cc97d4-ea26-4736-821a-2843dd6f2ee1",
   "metadata": {},
   "outputs": [
    {
     "name": "stdout",
     "output_type": "stream",
     "text": [
      "87689\n"
     ]
    }
   ],
   "source": [
    "print(len(file_list))"
   ]
  },
  {
   "cell_type": "code",
   "execution_count": 5,
   "id": "db8aa97f-9d1a-48a8-9fef-75406f2c7b5c",
   "metadata": {},
   "outputs": [],
   "source": [
    "# df_1 ~ df_87688"
   ]
  },
  {
   "cell_type": "code",
   "execution_count": 6,
   "id": "5215b2ea-4e7a-4ba6-a9b0-d2960a56a0db",
   "metadata": {},
   "outputs": [
    {
     "name": "stdout",
     "output_type": "stream",
     "text": [
      "1 : 전기료가 오른다네... 세상에나\n",
      "2 : 아 맞어 키로와트당 40원?\n",
      "1 : 안 오르는 게 없어요\n",
      "2 : 물가는 다 오르는데 인건비는 왜.\n",
      "1 : 알제 전기료 오르면 모든 게 다 오른다고\n",
      "2 : 도대체 인건비는 왜 안 오르냐고\n",
      "1 : 키키 내 말이 또 최저 시급은 오르던데\n",
      "2 : 아니 인건비가 아니라 임금이지\n",
      "1 : 월급은 최저 시급이랑 노 상관인 듯\n",
      "2 : 아니 진짜 너무하네\n",
      "1 : 키키 요즘 편의점 다 사장님이 보심\n",
      "2 : 물가가 오르면 당연히 월급도 올라야지\n",
      "1 : 내 말이 식비가 어마어마한데\n",
      "2 : 굶어 죽으라는 거임 뭐임 ㅡㅡ\n",
      "1 : 마즘 물가가 미친 듯이 치솟음\n",
      "2 : 진짜 심하다 심해 야채들 가격도\n"
     ]
    }
   ],
   "source": [
    "print(df_1['annotations.text'][0])"
   ]
  },
  {
   "cell_type": "markdown",
   "id": "55f06bac-2135-4e32-b25d-4436fd7c6242",
   "metadata": {},
   "source": [
    "#"
   ]
  },
  {
   "cell_type": "markdown",
   "id": "ca41d845-4a5a-4cfb-b352-3ebb5b24f768",
   "metadata": {},
   "source": [
    "# Data Merge"
   ]
  },
  {
   "cell_type": "code",
   "execution_count": 7,
   "id": "6ab42422-1dc4-432f-84dd-0081f68f0d9e",
   "metadata": {},
   "outputs": [],
   "source": [
    "files = [eval(\"df_\" + str(i)) for i in range(len(file_list))]"
   ]
  },
  {
   "cell_type": "code",
   "execution_count": 8,
   "id": "953f8c71-3126-4a79-965c-6ace25db6096",
   "metadata": {},
   "outputs": [],
   "source": [
    "df = pd.concat(files)"
   ]
  },
  {
   "cell_type": "code",
   "execution_count": 9,
   "id": "86f12fc0-8960-4337-9e78-53f050d86678",
   "metadata": {},
   "outputs": [],
   "source": [
    "df.reset_index(inplace=True)"
   ]
  },
  {
   "cell_type": "code",
   "execution_count": 10,
   "id": "0756a1ab-29c1-4350-a831-93eb1063b560",
   "metadata": {},
   "outputs": [
    {
     "data": {
      "text/plain": [
       "(87689, 15)"
      ]
     },
     "execution_count": 10,
     "metadata": {},
     "output_type": "execute_result"
    }
   ],
   "source": [
    "df.shape"
   ]
  },
  {
   "cell_type": "code",
   "execution_count": 11,
   "id": "07a05e03-f1d4-4480-b7a9-0a0470eb0b2b",
   "metadata": {},
   "outputs": [
    {
     "data": {
      "text/html": [
       "<div>\n",
       "<style scoped>\n",
       "    .dataframe tbody tr th:only-of-type {\n",
       "        vertical-align: middle;\n",
       "    }\n",
       "\n",
       "    .dataframe tbody tr th {\n",
       "        vertical-align: top;\n",
       "    }\n",
       "\n",
       "    .dataframe thead th {\n",
       "        text-align: right;\n",
       "    }\n",
       "</style>\n",
       "<table border=\"1\" class=\"dataframe\">\n",
       "  <thead>\n",
       "    <tr style=\"text-align: right;\">\n",
       "      <th></th>\n",
       "      <th>index</th>\n",
       "      <th>id</th>\n",
       "      <th>filename</th>\n",
       "      <th>title</th>\n",
       "      <th>mediatype</th>\n",
       "      <th>medianame</th>\n",
       "      <th>category</th>\n",
       "      <th>date</th>\n",
       "      <th>size</th>\n",
       "      <th>annotations.subject</th>\n",
       "      <th>annotations.speaker_type</th>\n",
       "      <th>annotations.size</th>\n",
       "      <th>annotations.word_size</th>\n",
       "      <th>annotations.text</th>\n",
       "      <th>annotations.lines</th>\n",
       "    </tr>\n",
       "  </thead>\n",
       "  <tbody>\n",
       "    <tr>\n",
       "      <th>0</th>\n",
       "      <td>0</td>\n",
       "      <td>133547</td>\n",
       "      <td>KAKAO_1702_04.txt</td>\n",
       "      <td>KAKAO_1702_04</td>\n",
       "      <td>SNS</td>\n",
       "      <td>카카오톡</td>\n",
       "      <td>일상대화</td>\n",
       "      <td>2021-11-03</td>\n",
       "      <td>499</td>\n",
       "      <td>회사/아르바이트</td>\n",
       "      <td>1:1</td>\n",
       "      <td>499</td>\n",
       "      <td>167</td>\n",
       "      <td>1 : 이제 위드 코로나 하면 회식 시작하겠구만 키키\\n2 : 11월달부터 위드 코...</td>\n",
       "      <td>[{'id': 1, 'text': '1 : 이제 위드 코로나 하면 회식 시작하겠구만...</td>\n",
       "    </tr>\n",
       "    <tr>\n",
       "      <th>1</th>\n",
       "      <td>0</td>\n",
       "      <td>67428</td>\n",
       "      <td>KAKAO_1232_14.txt</td>\n",
       "      <td>KAKAO_1232_14</td>\n",
       "      <td>SNS</td>\n",
       "      <td>카카오톡</td>\n",
       "      <td>일상대화</td>\n",
       "      <td>2021-10-14</td>\n",
       "      <td>333</td>\n",
       "      <td>사회이슈</td>\n",
       "      <td>1:1</td>\n",
       "      <td>333</td>\n",
       "      <td>110</td>\n",
       "      <td>1 : 전기료가 오른다네... 세상에나\\n2 : 아 맞어 키로와트당 40원?\\n1 ...</td>\n",
       "      <td>[{'id': 1, 'text': '1 : 전기료가 오른다네... 세상에나', 'n...</td>\n",
       "    </tr>\n",
       "    <tr>\n",
       "      <th>2</th>\n",
       "      <td>0</td>\n",
       "      <td>63922</td>\n",
       "      <td>KAKAO_1169_13.txt</td>\n",
       "      <td>KAKAO_1169_13</td>\n",
       "      <td>SNS</td>\n",
       "      <td>카카오톡</td>\n",
       "      <td>일상대화</td>\n",
       "      <td>2021-10-13</td>\n",
       "      <td>836</td>\n",
       "      <td>계절/날씨</td>\n",
       "      <td>다자간 대화</td>\n",
       "      <td>836</td>\n",
       "      <td>273</td>\n",
       "      <td>1 : 오늘 아침에 비 많이 왔쪄 ㅠ\\n2 : 맞아요 ㅠㅠ 지난 새벽부터 엄청 내렸...</td>\n",
       "      <td>[{'id': 1, 'text': '1 : 오늘 아침에 비 많이 왔쪄 ㅠ', 'no...</td>\n",
       "    </tr>\n",
       "    <tr>\n",
       "      <th>3</th>\n",
       "      <td>0</td>\n",
       "      <td>82961</td>\n",
       "      <td>KAKAO_1459_03.txt</td>\n",
       "      <td>KAKAO_1459_03</td>\n",
       "      <td>SNS</td>\n",
       "      <td>카카오톡</td>\n",
       "      <td>일상대화</td>\n",
       "      <td>2021-10-20</td>\n",
       "      <td>599</td>\n",
       "      <td>교통</td>\n",
       "      <td>다자간 대화</td>\n",
       "      <td>599</td>\n",
       "      <td>213</td>\n",
       "      <td>1 : 비행기 타고 싶다\\n2 : 진짜 언제 탈 수 있네 **이랑 탄 게 마지막.....</td>\n",
       "      <td>[{'id': 1, 'text': '1 : 비행기 타고 싶다', 'norm_text...</td>\n",
       "    </tr>\n",
       "    <tr>\n",
       "      <th>4</th>\n",
       "      <td>0</td>\n",
       "      <td>111343</td>\n",
       "      <td>KAKAO_1635_15.txt</td>\n",
       "      <td>KAKAO_1635_15</td>\n",
       "      <td>SNS</td>\n",
       "      <td>카카오톡</td>\n",
       "      <td>일상대화</td>\n",
       "      <td>2021-10-29</td>\n",
       "      <td>540</td>\n",
       "      <td>타 국가 이슈</td>\n",
       "      <td>1:1</td>\n",
       "      <td>540</td>\n",
       "      <td>174</td>\n",
       "      <td>1 : 미국 열차 안에서 성폭행 사건 있었대 ㅠㅠ\\n2 : 열차 안에서?\\n2 : ...</td>\n",
       "      <td>[{'id': 1, 'text': '1 : 미국 열차 안에서 성폭행 사건 있었대 ㅠ...</td>\n",
       "    </tr>\n",
       "  </tbody>\n",
       "</table>\n",
       "</div>"
      ],
      "text/plain": [
       "   index      id           filename          title mediatype medianame  \\\n",
       "0      0  133547  KAKAO_1702_04.txt  KAKAO_1702_04       SNS      카카오톡   \n",
       "1      0   67428  KAKAO_1232_14.txt  KAKAO_1232_14       SNS      카카오톡   \n",
       "2      0   63922  KAKAO_1169_13.txt  KAKAO_1169_13       SNS      카카오톡   \n",
       "3      0   82961  KAKAO_1459_03.txt  KAKAO_1459_03       SNS      카카오톡   \n",
       "4      0  111343  KAKAO_1635_15.txt  KAKAO_1635_15       SNS      카카오톡   \n",
       "\n",
       "  category        date  size annotations.subject annotations.speaker_type  \\\n",
       "0     일상대화  2021-11-03   499            회사/아르바이트                      1:1   \n",
       "1     일상대화  2021-10-14   333                사회이슈                      1:1   \n",
       "2     일상대화  2021-10-13   836               계절/날씨                   다자간 대화   \n",
       "3     일상대화  2021-10-20   599                  교통                   다자간 대화   \n",
       "4     일상대화  2021-10-29   540             타 국가 이슈                      1:1   \n",
       "\n",
       "   annotations.size  annotations.word_size  \\\n",
       "0               499                    167   \n",
       "1               333                    110   \n",
       "2               836                    273   \n",
       "3               599                    213   \n",
       "4               540                    174   \n",
       "\n",
       "                                    annotations.text  \\\n",
       "0  1 : 이제 위드 코로나 하면 회식 시작하겠구만 키키\\n2 : 11월달부터 위드 코...   \n",
       "1  1 : 전기료가 오른다네... 세상에나\\n2 : 아 맞어 키로와트당 40원?\\n1 ...   \n",
       "2  1 : 오늘 아침에 비 많이 왔쪄 ㅠ\\n2 : 맞아요 ㅠㅠ 지난 새벽부터 엄청 내렸...   \n",
       "3  1 : 비행기 타고 싶다\\n2 : 진짜 언제 탈 수 있네 **이랑 탄 게 마지막.....   \n",
       "4  1 : 미국 열차 안에서 성폭행 사건 있었대 ㅠㅠ\\n2 : 열차 안에서?\\n2 : ...   \n",
       "\n",
       "                                   annotations.lines  \n",
       "0  [{'id': 1, 'text': '1 : 이제 위드 코로나 하면 회식 시작하겠구만...  \n",
       "1  [{'id': 1, 'text': '1 : 전기료가 오른다네... 세상에나', 'n...  \n",
       "2  [{'id': 1, 'text': '1 : 오늘 아침에 비 많이 왔쪄 ㅠ', 'no...  \n",
       "3  [{'id': 1, 'text': '1 : 비행기 타고 싶다', 'norm_text...  \n",
       "4  [{'id': 1, 'text': '1 : 미국 열차 안에서 성폭행 사건 있었대 ㅠ...  "
      ]
     },
     "execution_count": 11,
     "metadata": {},
     "output_type": "execute_result"
    }
   ],
   "source": [
    "df.head()"
   ]
  },
  {
   "cell_type": "code",
   "execution_count": 12,
   "id": "3666ca24-aaf1-4fce-a6ed-5d8ea88400bc",
   "metadata": {},
   "outputs": [],
   "source": [
    "df = df[['medianame', 'annotations.subject', 'annotations.speaker_type', 'annotations.text']]"
   ]
  },
  {
   "cell_type": "code",
   "execution_count": 13,
   "id": "d7b4759e-40d8-462c-8178-e42da5a6c1bb",
   "metadata": {},
   "outputs": [
    {
     "data": {
      "text/html": [
       "<div>\n",
       "<style scoped>\n",
       "    .dataframe tbody tr th:only-of-type {\n",
       "        vertical-align: middle;\n",
       "    }\n",
       "\n",
       "    .dataframe tbody tr th {\n",
       "        vertical-align: top;\n",
       "    }\n",
       "\n",
       "    .dataframe thead th {\n",
       "        text-align: right;\n",
       "    }\n",
       "</style>\n",
       "<table border=\"1\" class=\"dataframe\">\n",
       "  <thead>\n",
       "    <tr style=\"text-align: right;\">\n",
       "      <th></th>\n",
       "      <th>medianame</th>\n",
       "      <th>annotations.subject</th>\n",
       "      <th>annotations.speaker_type</th>\n",
       "      <th>annotations.text</th>\n",
       "    </tr>\n",
       "  </thead>\n",
       "  <tbody>\n",
       "    <tr>\n",
       "      <th>0</th>\n",
       "      <td>카카오톡</td>\n",
       "      <td>회사/아르바이트</td>\n",
       "      <td>1:1</td>\n",
       "      <td>1 : 이제 위드 코로나 하면 회식 시작하겠구만 키키\\n2 : 11월달부터 위드 코...</td>\n",
       "    </tr>\n",
       "    <tr>\n",
       "      <th>1</th>\n",
       "      <td>카카오톡</td>\n",
       "      <td>사회이슈</td>\n",
       "      <td>1:1</td>\n",
       "      <td>1 : 전기료가 오른다네... 세상에나\\n2 : 아 맞어 키로와트당 40원?\\n1 ...</td>\n",
       "    </tr>\n",
       "    <tr>\n",
       "      <th>2</th>\n",
       "      <td>카카오톡</td>\n",
       "      <td>계절/날씨</td>\n",
       "      <td>다자간 대화</td>\n",
       "      <td>1 : 오늘 아침에 비 많이 왔쪄 ㅠ\\n2 : 맞아요 ㅠㅠ 지난 새벽부터 엄청 내렸...</td>\n",
       "    </tr>\n",
       "    <tr>\n",
       "      <th>3</th>\n",
       "      <td>카카오톡</td>\n",
       "      <td>교통</td>\n",
       "      <td>다자간 대화</td>\n",
       "      <td>1 : 비행기 타고 싶다\\n2 : 진짜 언제 탈 수 있네 **이랑 탄 게 마지막.....</td>\n",
       "    </tr>\n",
       "    <tr>\n",
       "      <th>4</th>\n",
       "      <td>카카오톡</td>\n",
       "      <td>타 국가 이슈</td>\n",
       "      <td>1:1</td>\n",
       "      <td>1 : 미국 열차 안에서 성폭행 사건 있었대 ㅠㅠ\\n2 : 열차 안에서?\\n2 : ...</td>\n",
       "    </tr>\n",
       "  </tbody>\n",
       "</table>\n",
       "</div>"
      ],
      "text/plain": [
       "  medianame annotations.subject annotations.speaker_type  \\\n",
       "0      카카오톡            회사/아르바이트                      1:1   \n",
       "1      카카오톡                사회이슈                      1:1   \n",
       "2      카카오톡               계절/날씨                   다자간 대화   \n",
       "3      카카오톡                  교통                   다자간 대화   \n",
       "4      카카오톡             타 국가 이슈                      1:1   \n",
       "\n",
       "                                    annotations.text  \n",
       "0  1 : 이제 위드 코로나 하면 회식 시작하겠구만 키키\\n2 : 11월달부터 위드 코...  \n",
       "1  1 : 전기료가 오른다네... 세상에나\\n2 : 아 맞어 키로와트당 40원?\\n1 ...  \n",
       "2  1 : 오늘 아침에 비 많이 왔쪄 ㅠ\\n2 : 맞아요 ㅠㅠ 지난 새벽부터 엄청 내렸...  \n",
       "3  1 : 비행기 타고 싶다\\n2 : 진짜 언제 탈 수 있네 **이랑 탄 게 마지막.....  \n",
       "4  1 : 미국 열차 안에서 성폭행 사건 있었대 ㅠㅠ\\n2 : 열차 안에서?\\n2 : ...  "
      ]
     },
     "execution_count": 13,
     "metadata": {},
     "output_type": "execute_result"
    }
   ],
   "source": [
    "df.head()"
   ]
  },
  {
   "cell_type": "markdown",
   "id": "56ad6258-f702-4c07-9833-d27c58390d71",
   "metadata": {},
   "source": [
    "# "
   ]
  },
  {
   "cell_type": "markdown",
   "id": "dcfc7031-a1c6-4b46-b5f1-ed0b6ac8d85a",
   "metadata": {},
   "source": [
    "# Data Save"
   ]
  },
  {
   "cell_type": "code",
   "execution_count": 14,
   "id": "848372ce-93d9-40e3-9aae-06c7ccf59a4b",
   "metadata": {},
   "outputs": [],
   "source": [
    "import config\n",
    "from pshmodule.utils import filemanager as fm"
   ]
  },
  {
   "cell_type": "code",
   "execution_count": 15,
   "id": "2aa69ac8-0f72-474d-a73c-53dd492ee030",
   "metadata": {},
   "outputs": [
    {
     "name": "stdout",
     "output_type": "stream",
     "text": [
      "Saved 87689 records\n"
     ]
    }
   ],
   "source": [
    "fm.save(config.data_path, df)"
   ]
  },
  {
   "cell_type": "code",
   "execution_count": null,
   "id": "78eaf9f6-2ba3-4290-8e08-8f058402f927",
   "metadata": {},
   "outputs": [],
   "source": []
  }
 ],
 "metadata": {
  "kernelspec": {
   "display_name": "Python 3",
   "language": "python",
   "name": "python3"
  },
  "language_info": {
   "codemirror_mode": {
    "name": "ipython",
    "version": 3
   },
   "file_extension": ".py",
   "mimetype": "text/x-python",
   "name": "python",
   "nbconvert_exporter": "python",
   "pygments_lexer": "ipython3",
   "version": "3.8.10"
  }
 },
 "nbformat": 4,
 "nbformat_minor": 5
}
