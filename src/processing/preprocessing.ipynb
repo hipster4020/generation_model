{
 "cells": [
  {
   "cell_type": "markdown",
   "id": "6fc03bd3-b6dc-476d-bdef-0a9f674dea82",
   "metadata": {},
   "source": [
    "# Data Load"
   ]
  },
  {
   "cell_type": "code",
   "execution_count": 2,
   "id": "29e68892-da2b-4040-a545-32a98a520c42",
   "metadata": {},
   "outputs": [],
   "source": [
    "import config\n",
    "from pshmodule.utils import filemanager as fm"
   ]
  },
  {
   "cell_type": "code",
   "execution_count": 3,
   "id": "0672efcc-6914-45ca-b23a-67459175f21b",
   "metadata": {},
   "outputs": [
    {
     "name": "stdout",
     "output_type": "stream",
     "text": [
      "extension : .pickle\n",
      "Loaded 87689 records from /home/jovyan/shpark-datashare/practice/generation_model/data/data.pickle\n"
     ]
    }
   ],
   "source": [
    "df = fm.load(config.data_path)"
   ]
  },
  {
   "cell_type": "code",
   "execution_count": 4,
   "id": "5e1ed38d-c00a-4b3e-9c19-c4dab1af098e",
   "metadata": {},
   "outputs": [
    {
     "data": {
      "text/html": [
       "<div>\n",
       "<style scoped>\n",
       "    .dataframe tbody tr th:only-of-type {\n",
       "        vertical-align: middle;\n",
       "    }\n",
       "\n",
       "    .dataframe tbody tr th {\n",
       "        vertical-align: top;\n",
       "    }\n",
       "\n",
       "    .dataframe thead th {\n",
       "        text-align: right;\n",
       "    }\n",
       "</style>\n",
       "<table border=\"1\" class=\"dataframe\">\n",
       "  <thead>\n",
       "    <tr style=\"text-align: right;\">\n",
       "      <th></th>\n",
       "      <th>medianame</th>\n",
       "      <th>annotations.subject</th>\n",
       "      <th>annotations.speaker_type</th>\n",
       "      <th>annotations.text</th>\n",
       "    </tr>\n",
       "  </thead>\n",
       "  <tbody>\n",
       "    <tr>\n",
       "      <th>0</th>\n",
       "      <td>카카오톡</td>\n",
       "      <td>회사/아르바이트</td>\n",
       "      <td>1:1</td>\n",
       "      <td>1 : 이제 위드 코로나 하면 회식 시작하겠구만 키키\\n2 : 11월달부터 위드 코...</td>\n",
       "    </tr>\n",
       "    <tr>\n",
       "      <th>1</th>\n",
       "      <td>카카오톡</td>\n",
       "      <td>사회이슈</td>\n",
       "      <td>1:1</td>\n",
       "      <td>1 : 전기료가 오른다네... 세상에나\\n2 : 아 맞어 키로와트당 40원?\\n1 ...</td>\n",
       "    </tr>\n",
       "    <tr>\n",
       "      <th>2</th>\n",
       "      <td>카카오톡</td>\n",
       "      <td>계절/날씨</td>\n",
       "      <td>다자간 대화</td>\n",
       "      <td>1 : 오늘 아침에 비 많이 왔쪄 ㅠ\\n2 : 맞아요 ㅠㅠ 지난 새벽부터 엄청 내렸...</td>\n",
       "    </tr>\n",
       "    <tr>\n",
       "      <th>3</th>\n",
       "      <td>카카오톡</td>\n",
       "      <td>교통</td>\n",
       "      <td>다자간 대화</td>\n",
       "      <td>1 : 비행기 타고 싶다\\n2 : 진짜 언제 탈 수 있네 **이랑 탄 게 마지막.....</td>\n",
       "    </tr>\n",
       "    <tr>\n",
       "      <th>4</th>\n",
       "      <td>카카오톡</td>\n",
       "      <td>타 국가 이슈</td>\n",
       "      <td>1:1</td>\n",
       "      <td>1 : 미국 열차 안에서 성폭행 사건 있었대 ㅠㅠ\\n2 : 열차 안에서?\\n2 : ...</td>\n",
       "    </tr>\n",
       "  </tbody>\n",
       "</table>\n",
       "</div>"
      ],
      "text/plain": [
       "  medianame annotations.subject annotations.speaker_type  \\\n",
       "0      카카오톡            회사/아르바이트                      1:1   \n",
       "1      카카오톡                사회이슈                      1:1   \n",
       "2      카카오톡               계절/날씨                   다자간 대화   \n",
       "3      카카오톡                  교통                   다자간 대화   \n",
       "4      카카오톡             타 국가 이슈                      1:1   \n",
       "\n",
       "                                    annotations.text  \n",
       "0  1 : 이제 위드 코로나 하면 회식 시작하겠구만 키키\\n2 : 11월달부터 위드 코...  \n",
       "1  1 : 전기료가 오른다네... 세상에나\\n2 : 아 맞어 키로와트당 40원?\\n1 ...  \n",
       "2  1 : 오늘 아침에 비 많이 왔쪄 ㅠ\\n2 : 맞아요 ㅠㅠ 지난 새벽부터 엄청 내렸...  \n",
       "3  1 : 비행기 타고 싶다\\n2 : 진짜 언제 탈 수 있네 **이랑 탄 게 마지막.....  \n",
       "4  1 : 미국 열차 안에서 성폭행 사건 있었대 ㅠㅠ\\n2 : 열차 안에서?\\n2 : ...  "
      ]
     },
     "execution_count": 4,
     "metadata": {},
     "output_type": "execute_result"
    }
   ],
   "source": [
    "df.head()"
   ]
  },
  {
   "cell_type": "code",
   "execution_count": null,
   "id": "dc5d94f6-0f1c-4c69-85f0-20380198aad5",
   "metadata": {},
   "outputs": [],
   "source": []
  }
 ],
 "metadata": {
  "kernelspec": {
   "display_name": "Python 3",
   "language": "python",
   "name": "python3"
  },
  "language_info": {
   "codemirror_mode": {
    "name": "ipython",
    "version": 3
   },
   "file_extension": ".py",
   "mimetype": "text/x-python",
   "name": "python",
   "nbconvert_exporter": "python",
   "pygments_lexer": "ipython3",
   "version": "3.8.10"
  }
 },
 "nbformat": 4,
 "nbformat_minor": 5
}
