{
 "cells": [
  {
   "cell_type": "markdown",
   "id": "6fc03bd3-b6dc-476d-bdef-0a9f674dea82",
   "metadata": {},
   "source": [
    "# Data Load"
   ]
  },
  {
   "cell_type": "code",
   "execution_count": 1,
   "id": "29e68892-da2b-4040-a545-32a98a520c42",
   "metadata": {},
   "outputs": [],
   "source": [
    "import config\n",
    "from pshmodule.utils import filemanager as fm"
   ]
  },
  {
   "cell_type": "code",
   "execution_count": 2,
   "id": "0672efcc-6914-45ca-b23a-67459175f21b",
   "metadata": {},
   "outputs": [
    {
     "name": "stdout",
     "output_type": "stream",
     "text": [
      "extension : .pickle\n",
      "Loaded 87689 records from /home/jovyan/shpark-datashare/data/practice/generation_model/data/data.pickle\n"
     ]
    }
   ],
   "source": [
    "df = fm.load(config.data_path)"
   ]
  },
  {
   "cell_type": "code",
   "execution_count": 3,
   "id": "5e1ed38d-c00a-4b3e-9c19-c4dab1af098e",
   "metadata": {},
   "outputs": [
    {
     "data": {
      "text/html": [
       "<div>\n",
       "<style scoped>\n",
       "    .dataframe tbody tr th:only-of-type {\n",
       "        vertical-align: middle;\n",
       "    }\n",
       "\n",
       "    .dataframe tbody tr th {\n",
       "        vertical-align: top;\n",
       "    }\n",
       "\n",
       "    .dataframe thead th {\n",
       "        text-align: right;\n",
       "    }\n",
       "</style>\n",
       "<table border=\"1\" class=\"dataframe\">\n",
       "  <thead>\n",
       "    <tr style=\"text-align: right;\">\n",
       "      <th></th>\n",
       "      <th>medianame</th>\n",
       "      <th>annotations.subject</th>\n",
       "      <th>annotations.speaker_type</th>\n",
       "      <th>annotations.text</th>\n",
       "    </tr>\n",
       "  </thead>\n",
       "  <tbody>\n",
       "    <tr>\n",
       "      <th>0</th>\n",
       "      <td>카카오톡</td>\n",
       "      <td>회사/아르바이트</td>\n",
       "      <td>1:1</td>\n",
       "      <td>1 : 이제 위드 코로나 하면 회식 시작하겠구만 키키\\n2 : 11월달부터 위드 코...</td>\n",
       "    </tr>\n",
       "    <tr>\n",
       "      <th>1</th>\n",
       "      <td>카카오톡</td>\n",
       "      <td>사회이슈</td>\n",
       "      <td>1:1</td>\n",
       "      <td>1 : 전기료가 오른다네... 세상에나\\n2 : 아 맞어 키로와트당 40원?\\n1 ...</td>\n",
       "    </tr>\n",
       "    <tr>\n",
       "      <th>2</th>\n",
       "      <td>카카오톡</td>\n",
       "      <td>계절/날씨</td>\n",
       "      <td>다자간 대화</td>\n",
       "      <td>1 : 오늘 아침에 비 많이 왔쪄 ㅠ\\n2 : 맞아요 ㅠㅠ 지난 새벽부터 엄청 내렸...</td>\n",
       "    </tr>\n",
       "    <tr>\n",
       "      <th>3</th>\n",
       "      <td>카카오톡</td>\n",
       "      <td>교통</td>\n",
       "      <td>다자간 대화</td>\n",
       "      <td>1 : 비행기 타고 싶다\\n2 : 진짜 언제 탈 수 있네 **이랑 탄 게 마지막.....</td>\n",
       "    </tr>\n",
       "    <tr>\n",
       "      <th>4</th>\n",
       "      <td>카카오톡</td>\n",
       "      <td>타 국가 이슈</td>\n",
       "      <td>1:1</td>\n",
       "      <td>1 : 미국 열차 안에서 성폭행 사건 있었대 ㅠㅠ\\n2 : 열차 안에서?\\n2 : ...</td>\n",
       "    </tr>\n",
       "  </tbody>\n",
       "</table>\n",
       "</div>"
      ],
      "text/plain": [
       "  medianame annotations.subject annotations.speaker_type  \\\n",
       "0      카카오톡            회사/아르바이트                      1:1   \n",
       "1      카카오톡                사회이슈                      1:1   \n",
       "2      카카오톡               계절/날씨                   다자간 대화   \n",
       "3      카카오톡                  교통                   다자간 대화   \n",
       "4      카카오톡             타 국가 이슈                      1:1   \n",
       "\n",
       "                                    annotations.text  \n",
       "0  1 : 이제 위드 코로나 하면 회식 시작하겠구만 키키\\n2 : 11월달부터 위드 코...  \n",
       "1  1 : 전기료가 오른다네... 세상에나\\n2 : 아 맞어 키로와트당 40원?\\n1 ...  \n",
       "2  1 : 오늘 아침에 비 많이 왔쪄 ㅠ\\n2 : 맞아요 ㅠㅠ 지난 새벽부터 엄청 내렸...  \n",
       "3  1 : 비행기 타고 싶다\\n2 : 진짜 언제 탈 수 있네 **이랑 탄 게 마지막.....  \n",
       "4  1 : 미국 열차 안에서 성폭행 사건 있었대 ㅠㅠ\\n2 : 열차 안에서?\\n2 : ...  "
      ]
     },
     "execution_count": 3,
     "metadata": {},
     "output_type": "execute_result"
    }
   ],
   "source": [
    "df.head()"
   ]
  },
  {
   "cell_type": "markdown",
   "id": "3a2bf30e-d68b-48fc-afc9-323f12f63809",
   "metadata": {},
   "source": [
    "### "
   ]
  },
  {
   "cell_type": "markdown",
   "id": "3e6ba23f-7262-41db-b1e3-9c96f5f73b48",
   "metadata": {},
   "source": [
    "# EDA"
   ]
  },
  {
   "cell_type": "code",
   "execution_count": 4,
   "id": "dc5d94f6-0f1c-4c69-85f0-20380198aad5",
   "metadata": {},
   "outputs": [
    {
     "name": "stdout",
     "output_type": "stream",
     "text": [
      "1 : 샘그때 어머님 환갑 준비한다고 하셨는데 뭐해요 키키\n",
      "2 : 쌤 안그래도 물어볼려고 했는데\n",
      "2 : 쌤 아버님 환갑때 식사 어디서 하셨나요?\n",
      "1 : 샘도 자주가는 오리고기집이요 키키\n",
      "1 : 이름이 기억안나네\n",
      "1 : **동에 있는데\n",
      "2 : 아! 솔밭가든이요\n",
      "2 : 울산 오리고기 하면 솔밭가든이죠 키키\n",
      "2 : 근데 요즘 코로나때문에 식사나 할 수 있을지 모르겠어요\n",
      "1 : 아 샘 그러면 집에서 먹어야겠네요\n",
      "1 : 생각해놓은거있어요? 키키\n",
      "2 : 12월이라서 상황을 지켜봐야할거 같긴한데...\n",
      "2 : 집에서 먹으면 배달 음식 먹겠죠? 키키\n",
      "2 : 쌤 혹시... 선물은 그냥 용돈이였나요?\n",
      "1 : 아 샘 12월이면 아직 멀었네 키키\n",
      "1 : 준비할 시간이 많군요\n",
      "1 : 네샘 현금드렸습니다 ...\n",
      "1 : 현금 제일 좋아하실것같아요 키키\n",
      "2 : sns 보니까 풍선 현수막 이런거 이쁘게 많이 하더라고요\n",
      "2 : 검색 좀 해봐야겠어요 키키\n"
     ]
    }
   ],
   "source": [
    "print(df['annotations.text'][30000])"
   ]
  },
  {
   "cell_type": "code",
   "execution_count": 5,
   "id": "6fa2caff-7453-4562-ad8e-fcd253555bed",
   "metadata": {},
   "outputs": [
    {
     "data": {
      "text/plain": [
       "(87689, 4)"
      ]
     },
     "execution_count": 5,
     "metadata": {},
     "output_type": "execute_result"
    }
   ],
   "source": [
    "df.shape"
   ]
  },
  {
   "cell_type": "code",
   "execution_count": 6,
   "id": "853c5a00-1d2d-4813-98ad-0fd2edcc68bc",
   "metadata": {},
   "outputs": [
    {
     "name": "stdout",
     "output_type": "stream",
     "text": [
      "카카오톡     71783\n",
      "페이스북      7918\n",
      "인스타그램     4777\n",
      "네이버밴드     1614\n",
      "네이트온      1597\n",
      "Name: medianame, dtype: int64\n",
      "------------------------------\n",
      "미용          4675\n",
      "스포츠/레저      4642\n",
      "교육          4575\n",
      "가족          4521\n",
      "상거래 전반      4514\n",
      "영화/만화       4503\n",
      "교통          4474\n",
      "여행          4464\n",
      "회사/아르바이트    4459\n",
      "건강          4454\n",
      "연애/결혼       4356\n",
      "게임          4352\n",
      "계절/날씨       4347\n",
      "방송/연예       4323\n",
      "사회이슈        4281\n",
      "주거와 생활      4259\n",
      "반려동물        4234\n",
      "군대          4151\n",
      "식음료         4132\n",
      "타 국가 이슈     3969\n",
      "상거래전반          4\n",
      "Name: annotations.subject, dtype: int64\n",
      "------------------------------\n",
      "1:1       64048\n",
      "다자간 대화    23641\n",
      "Name: annotations.speaker_type, dtype: int64\n"
     ]
    }
   ],
   "source": [
    "print(df['medianame'].value_counts())\n",
    "print(\"-\"*30)\n",
    "print(df['annotations.subject'].value_counts())\n",
    "print(\"-\"*30)\n",
    "print(df['annotations.speaker_type'].value_counts())"
   ]
  },
  {
   "cell_type": "markdown",
   "id": "41f05408-3e67-4ad3-baad-41f80fbfa0e8",
   "metadata": {},
   "source": [
    "### only 1:1"
   ]
  },
  {
   "cell_type": "code",
   "execution_count": 7,
   "id": "b2874d14-6457-43bd-96b4-2c3139453a81",
   "metadata": {},
   "outputs": [],
   "source": [
    "df_temp = df[df['annotations.speaker_type'] == '1:1']"
   ]
  },
  {
   "cell_type": "markdown",
   "id": "b4132706-28fd-4344-87ad-03ca2adbec7a",
   "metadata": {},
   "source": [
    "### "
   ]
  },
  {
   "cell_type": "markdown",
   "id": "5dff7ba2-dba8-43da-8560-fcfbae98431f",
   "metadata": {},
   "source": [
    "# Preprocessing"
   ]
  },
  {
   "cell_type": "code",
   "execution_count": 8,
   "id": "c704a477-0a53-41d6-90ae-52a48eaffeeb",
   "metadata": {},
   "outputs": [],
   "source": [
    "import re"
   ]
  },
  {
   "cell_type": "code",
   "execution_count": 9,
   "id": "7e054d48-7715-4771-8199-5f01e89804b2",
   "metadata": {},
   "outputs": [],
   "source": [
    "def preprocessing(x):\n",
    "    result = x.replace('\\n', ' ').replace('키키', '').replace('하하', '').replace('히히', '')\n",
    "    # result = re.sub('([ㄱ-ㅎㅏ-ㅣ])+', '', result)\n",
    "    \n",
    "    result = result.lower()\n",
    "    return result"
   ]
  },
  {
   "cell_type": "code",
   "execution_count": 10,
   "id": "4ed7a258-5b6b-4898-a6af-9fca93e9c81a",
   "metadata": {},
   "outputs": [],
   "source": [
    "# test = preprocessing('왜그러냐 증말 ㅡㅡ ㅎㅎ')\n",
    "# print(test)"
   ]
  },
  {
   "cell_type": "code",
   "execution_count": 11,
   "id": "1ebbc3ce-2049-4d19-ac8e-1368d52ce1f6",
   "metadata": {},
   "outputs": [],
   "source": [
    "# df_temp['content'] = df['annotations.text'].apply(preprocessing)"
   ]
  },
  {
   "cell_type": "code",
   "execution_count": 12,
   "id": "81258bab-5274-4365-a9c0-3b62cc703e65",
   "metadata": {},
   "outputs": [
    {
     "name": "stdout",
     "output_type": "stream",
     "text": [
      "1 : 이제 위드 코로나 하면 회식 시작하겠구만 키키\n",
      "2 : 11월달부터 위드 코로나 하려나 보던데요 키키\n",
      "1 : 그러게 슬슬 준비하고 있네 키키\n",
      "2 : 키키 회식 좋아하는 사람들에게 희소식이겠네요\n",
      "1 : 그러게 키키 신입 사원들은 이제 큰일이네\n",
      "2 : 아 그렇겠네요 키키\n",
      "2 : 신입들은 회식을 피하고 싶겠네요\n",
      "1 : 키키 뭐 글도 올라온대 키키 회식 어떻게 하냐고\n",
      "2 : 키키 회식 문화 좀 사라질 줄 알았는데 더 가열차지는 거 아니에요\n",
      "1 : 키키 그러게 키키 난리 나겠다\n",
      "1 : 진짜 송년회 신년회 다 할 듯\n",
      "2 : 와 키키 생각만 해도 술 냄새 나네요 키키\n",
      "1 : 키키 이제 술술술 시작인가요 키키\n",
      "2 : 키키 전 술 좋아해서 별 생각 없긴 한데\n",
      "1 : 키키 뭐 그러면 공짜 술 먹고 좋지\n",
      "1 : 아직 체력이 좋네\n",
      "2 : 키키 형은 회식 별로 안 좋아하나 봐요?\n",
      "1 : 좋아는 하지만 이제 다음날 출근이 힘들어서 키키\n",
      "1 : 출근 안 하고 회식했으면\n",
      "2 : 아 그거 인정이요 키키\n",
      "2 : 술 마시고 담날 푹 자고 싶어요\n"
     ]
    }
   ],
   "source": [
    "print(df['annotations.text'][0])"
   ]
  },
  {
   "cell_type": "code",
   "execution_count": 13,
   "id": "352642b9-2c24-4260-a64d-f632f13227b7",
   "metadata": {},
   "outputs": [],
   "source": [
    "df_temp.reset_index(drop=True, inplace=True)"
   ]
  },
  {
   "cell_type": "code",
   "execution_count": 14,
   "id": "b76a01fa-c47c-4fea-ac6c-68074fcd0762",
   "metadata": {},
   "outputs": [
    {
     "data": {
      "text/html": [
       "<div>\n",
       "<style scoped>\n",
       "    .dataframe tbody tr th:only-of-type {\n",
       "        vertical-align: middle;\n",
       "    }\n",
       "\n",
       "    .dataframe tbody tr th {\n",
       "        vertical-align: top;\n",
       "    }\n",
       "\n",
       "    .dataframe thead th {\n",
       "        text-align: right;\n",
       "    }\n",
       "</style>\n",
       "<table border=\"1\" class=\"dataframe\">\n",
       "  <thead>\n",
       "    <tr style=\"text-align: right;\">\n",
       "      <th></th>\n",
       "      <th>medianame</th>\n",
       "      <th>annotations.subject</th>\n",
       "      <th>annotations.speaker_type</th>\n",
       "      <th>annotations.text</th>\n",
       "    </tr>\n",
       "  </thead>\n",
       "  <tbody>\n",
       "    <tr>\n",
       "      <th>0</th>\n",
       "      <td>카카오톡</td>\n",
       "      <td>회사/아르바이트</td>\n",
       "      <td>1:1</td>\n",
       "      <td>1 : 이제 위드 코로나 하면 회식 시작하겠구만 키키\\n2 : 11월달부터 위드 코...</td>\n",
       "    </tr>\n",
       "    <tr>\n",
       "      <th>1</th>\n",
       "      <td>카카오톡</td>\n",
       "      <td>사회이슈</td>\n",
       "      <td>1:1</td>\n",
       "      <td>1 : 전기료가 오른다네... 세상에나\\n2 : 아 맞어 키로와트당 40원?\\n1 ...</td>\n",
       "    </tr>\n",
       "    <tr>\n",
       "      <th>2</th>\n",
       "      <td>카카오톡</td>\n",
       "      <td>타 국가 이슈</td>\n",
       "      <td>1:1</td>\n",
       "      <td>1 : 미국 열차 안에서 성폭행 사건 있었대 ㅠㅠ\\n2 : 열차 안에서?\\n2 : ...</td>\n",
       "    </tr>\n",
       "    <tr>\n",
       "      <th>3</th>\n",
       "      <td>카카오톡</td>\n",
       "      <td>군대</td>\n",
       "      <td>1:1</td>\n",
       "      <td>1 : 남자친구는 육군 나왔어~?\\n2 : 육군 나왔어ㅋ 50사단인가?\\n1 : 육...</td>\n",
       "    </tr>\n",
       "    <tr>\n",
       "      <th>4</th>\n",
       "      <td>카카오톡</td>\n",
       "      <td>영화/만화</td>\n",
       "      <td>1:1</td>\n",
       "      <td>1 : 너는 최근에 무슨 영화 봤어? 키키\\n2 : 최근에 영화관 간 기억이 없네요...</td>\n",
       "    </tr>\n",
       "  </tbody>\n",
       "</table>\n",
       "</div>"
      ],
      "text/plain": [
       "  medianame annotations.subject annotations.speaker_type  \\\n",
       "0      카카오톡            회사/아르바이트                      1:1   \n",
       "1      카카오톡                사회이슈                      1:1   \n",
       "2      카카오톡             타 국가 이슈                      1:1   \n",
       "3      카카오톡                  군대                      1:1   \n",
       "4      카카오톡               영화/만화                      1:1   \n",
       "\n",
       "                                    annotations.text  \n",
       "0  1 : 이제 위드 코로나 하면 회식 시작하겠구만 키키\\n2 : 11월달부터 위드 코...  \n",
       "1  1 : 전기료가 오른다네... 세상에나\\n2 : 아 맞어 키로와트당 40원?\\n1 ...  \n",
       "2  1 : 미국 열차 안에서 성폭행 사건 있었대 ㅠㅠ\\n2 : 열차 안에서?\\n2 : ...  \n",
       "3  1 : 남자친구는 육군 나왔어~?\\n2 : 육군 나왔어ㅋ 50사단인가?\\n1 : 육...  \n",
       "4  1 : 너는 최근에 무슨 영화 봤어? 키키\\n2 : 최근에 영화관 간 기억이 없네요...  "
      ]
     },
     "execution_count": 14,
     "metadata": {},
     "output_type": "execute_result"
    }
   ],
   "source": [
    "df_temp.head()"
   ]
  },
  {
   "cell_type": "code",
   "execution_count": 15,
   "id": "cd99c142-116f-4b7c-88aa-49609817dc94",
   "metadata": {},
   "outputs": [],
   "source": [
    "# re.sub(r\" ?\\d ?: ?\", \"\\n---\\n\", df_temp.iloc[0, 4])"
   ]
  },
  {
   "cell_type": "markdown",
   "id": "fca6f5a6-3e3c-4708-b636-be9602b0b886",
   "metadata": {},
   "source": [
    "### "
   ]
  },
  {
   "cell_type": "markdown",
   "id": "c1c0eec5-b7ea-496c-a840-9f152c50af1c",
   "metadata": {},
   "source": [
    "# Transform"
   ]
  },
  {
   "cell_type": "code",
   "execution_count": 16,
   "id": "0d863461-d9f6-4694-9c78-24f584de178a",
   "metadata": {},
   "outputs": [],
   "source": [
    "import swifter\n",
    "import pandas as pd"
   ]
  },
  {
   "cell_type": "markdown",
   "id": "bdc9e94b-c203-4169-bd2b-8746f6c83e4e",
   "metadata": {},
   "source": [
    "### 개행 문자 split"
   ]
  },
  {
   "cell_type": "code",
   "execution_count": 17,
   "id": "dbde4712-3e2e-4891-971d-acc11e65e924",
   "metadata": {},
   "outputs": [
    {
     "name": "stderr",
     "output_type": "stream",
     "text": [
      "<ipython-input-17-b64579e90c15>:1: SettingWithCopyWarning: \n",
      "A value is trying to be set on a copy of a slice from a DataFrame.\n",
      "Try using .loc[row_indexer,col_indexer] = value instead\n",
      "\n",
      "See the caveats in the documentation: https://pandas.pydata.org/pandas-docs/stable/user_guide/indexing.html#returning-a-view-versus-a-copy\n",
      "  df_temp['split_text'] = df_temp['annotations.text'].apply(lambda x: x.split('\\n'))\n"
     ]
    }
   ],
   "source": [
    "df_temp['split_text'] = df_temp['annotations.text'].apply(lambda x: x.split('\\n'))"
   ]
  },
  {
   "cell_type": "markdown",
   "id": "9d70acdb-6c00-4771-a4eb-45573e2b67fb",
   "metadata": {},
   "source": [
    "### "
   ]
  },
  {
   "cell_type": "markdown",
   "id": "06ff726d-6699-45f6-bae0-2f4bc9c84dbc",
   "metadata": {},
   "source": [
    "### 같은 화자 합치기"
   ]
  },
  {
   "cell_type": "code",
   "execution_count": 18,
   "id": "48de2203-54dd-4bcf-b2ee-4676b6317cd6",
   "metadata": {},
   "outputs": [],
   "source": [
    "def transform(text):\n",
    "    result = []\n",
    "    temp = []\n",
    "    for i in text:\n",
    "        i = preprocessing(i)\n",
    "        \n",
    "        if len(temp) != 0:\n",
    "            # 1, 2로 시작 안하면 제거\n",
    "            if i[:3] != '1 :' and i[:3] != '2 :':\n",
    "                pass\n",
    "            # temp에 있으면 합치기\n",
    "            elif temp[0][:3] == i[:3]:\n",
    "                temp.append(i)\n",
    "            elif temp[0][:3] != i[:3]:\n",
    "                result.append(' '.join(temp))\n",
    "                temp = []\n",
    "                temp.append(i)\n",
    "        else:\n",
    "            temp.append(i)\n",
    "\n",
    "    return result"
   ]
  },
  {
   "cell_type": "code",
   "execution_count": 19,
   "id": "d8427a12-09c0-4e13-8170-d586d59d5b43",
   "metadata": {
    "tags": []
   },
   "outputs": [
    {
     "data": {
      "application/vnd.jupyter.widget-view+json": {
       "model_id": "4918e8a915c041c6a4e1f5632ca2d756",
       "version_major": 2,
       "version_minor": 0
      },
      "text/plain": [
       "Pandas Apply:   0%|          | 0/64048 [00:00<?, ?it/s]"
      ]
     },
     "metadata": {},
     "output_type": "display_data"
    },
    {
     "name": "stderr",
     "output_type": "stream",
     "text": [
      "<ipython-input-19-e8e7b4a83bc7>:1: SettingWithCopyWarning: \n",
      "A value is trying to be set on a copy of a slice from a DataFrame.\n",
      "Try using .loc[row_indexer,col_indexer] = value instead\n",
      "\n",
      "See the caveats in the documentation: https://pandas.pydata.org/pandas-docs/stable/user_guide/indexing.html#returning-a-view-versus-a-copy\n",
      "  df_temp['content'] = df_temp['split_text'].swifter.apply(transform)\n"
     ]
    }
   ],
   "source": [
    "df_temp['content'] = df_temp['split_text'].swifter.apply(transform)"
   ]
  },
  {
   "cell_type": "code",
   "execution_count": 20,
   "id": "a3a4d0dd-cad8-4b10-b5c1-719e5f36dfaf",
   "metadata": {},
   "outputs": [
    {
     "data": {
      "text/html": [
       "<div>\n",
       "<style scoped>\n",
       "    .dataframe tbody tr th:only-of-type {\n",
       "        vertical-align: middle;\n",
       "    }\n",
       "\n",
       "    .dataframe tbody tr th {\n",
       "        vertical-align: top;\n",
       "    }\n",
       "\n",
       "    .dataframe thead th {\n",
       "        text-align: right;\n",
       "    }\n",
       "</style>\n",
       "<table border=\"1\" class=\"dataframe\">\n",
       "  <thead>\n",
       "    <tr style=\"text-align: right;\">\n",
       "      <th></th>\n",
       "      <th>medianame</th>\n",
       "      <th>annotations.subject</th>\n",
       "      <th>annotations.speaker_type</th>\n",
       "      <th>annotations.text</th>\n",
       "      <th>split_text</th>\n",
       "      <th>content</th>\n",
       "    </tr>\n",
       "  </thead>\n",
       "  <tbody>\n",
       "    <tr>\n",
       "      <th>0</th>\n",
       "      <td>카카오톡</td>\n",
       "      <td>회사/아르바이트</td>\n",
       "      <td>1:1</td>\n",
       "      <td>1 : 이제 위드 코로나 하면 회식 시작하겠구만 키키\\n2 : 11월달부터 위드 코...</td>\n",
       "      <td>[1 : 이제 위드 코로나 하면 회식 시작하겠구만 키키, 2 : 11월달부터 위드 ...</td>\n",
       "      <td>[1 : 이제 위드 코로나 하면 회식 시작하겠구만 , 2 : 11월달부터 위드 코로...</td>\n",
       "    </tr>\n",
       "    <tr>\n",
       "      <th>1</th>\n",
       "      <td>카카오톡</td>\n",
       "      <td>사회이슈</td>\n",
       "      <td>1:1</td>\n",
       "      <td>1 : 전기료가 오른다네... 세상에나\\n2 : 아 맞어 키로와트당 40원?\\n1 ...</td>\n",
       "      <td>[1 : 전기료가 오른다네... 세상에나, 2 : 아 맞어 키로와트당 40원?, 1...</td>\n",
       "      <td>[1 : 전기료가 오른다네... 세상에나, 2 : 아 맞어 키로와트당 40원?, 1...</td>\n",
       "    </tr>\n",
       "    <tr>\n",
       "      <th>2</th>\n",
       "      <td>카카오톡</td>\n",
       "      <td>타 국가 이슈</td>\n",
       "      <td>1:1</td>\n",
       "      <td>1 : 미국 열차 안에서 성폭행 사건 있었대 ㅠㅠ\\n2 : 열차 안에서?\\n2 : ...</td>\n",
       "      <td>[1 : 미국 열차 안에서 성폭행 사건 있었대 ㅠㅠ, 2 : 열차 안에서?, 2 :...</td>\n",
       "      <td>[1 : 미국 열차 안에서 성폭행 사건 있었대 ㅠㅠ, 2 : 열차 안에서? 2 : ...</td>\n",
       "    </tr>\n",
       "    <tr>\n",
       "      <th>3</th>\n",
       "      <td>카카오톡</td>\n",
       "      <td>군대</td>\n",
       "      <td>1:1</td>\n",
       "      <td>1 : 남자친구는 육군 나왔어~?\\n2 : 육군 나왔어ㅋ 50사단인가?\\n1 : 육...</td>\n",
       "      <td>[1 : 남자친구는 육군 나왔어~?, 2 : 육군 나왔어ㅋ 50사단인가?, 1 : ...</td>\n",
       "      <td>[1 : 남자친구는 육군 나왔어~?, 2 : 육군 나왔어ㅋ 50사단인가?, 1 : ...</td>\n",
       "    </tr>\n",
       "    <tr>\n",
       "      <th>4</th>\n",
       "      <td>카카오톡</td>\n",
       "      <td>영화/만화</td>\n",
       "      <td>1:1</td>\n",
       "      <td>1 : 너는 최근에 무슨 영화 봤어? 키키\\n2 : 최근에 영화관 간 기억이 없네요...</td>\n",
       "      <td>[1 : 너는 최근에 무슨 영화 봤어? 키키, 2 : 최근에 영화관 간 기억이 없네...</td>\n",
       "      <td>[1 : 너는 최근에 무슨 영화 봤어? , 2 : 최근에 영화관 간 기억이 없네요,...</td>\n",
       "    </tr>\n",
       "  </tbody>\n",
       "</table>\n",
       "</div>"
      ],
      "text/plain": [
       "  medianame annotations.subject annotations.speaker_type  \\\n",
       "0      카카오톡            회사/아르바이트                      1:1   \n",
       "1      카카오톡                사회이슈                      1:1   \n",
       "2      카카오톡             타 국가 이슈                      1:1   \n",
       "3      카카오톡                  군대                      1:1   \n",
       "4      카카오톡               영화/만화                      1:1   \n",
       "\n",
       "                                    annotations.text  \\\n",
       "0  1 : 이제 위드 코로나 하면 회식 시작하겠구만 키키\\n2 : 11월달부터 위드 코...   \n",
       "1  1 : 전기료가 오른다네... 세상에나\\n2 : 아 맞어 키로와트당 40원?\\n1 ...   \n",
       "2  1 : 미국 열차 안에서 성폭행 사건 있었대 ㅠㅠ\\n2 : 열차 안에서?\\n2 : ...   \n",
       "3  1 : 남자친구는 육군 나왔어~?\\n2 : 육군 나왔어ㅋ 50사단인가?\\n1 : 육...   \n",
       "4  1 : 너는 최근에 무슨 영화 봤어? 키키\\n2 : 최근에 영화관 간 기억이 없네요...   \n",
       "\n",
       "                                          split_text  \\\n",
       "0  [1 : 이제 위드 코로나 하면 회식 시작하겠구만 키키, 2 : 11월달부터 위드 ...   \n",
       "1  [1 : 전기료가 오른다네... 세상에나, 2 : 아 맞어 키로와트당 40원?, 1...   \n",
       "2  [1 : 미국 열차 안에서 성폭행 사건 있었대 ㅠㅠ, 2 : 열차 안에서?, 2 :...   \n",
       "3  [1 : 남자친구는 육군 나왔어~?, 2 : 육군 나왔어ㅋ 50사단인가?, 1 : ...   \n",
       "4  [1 : 너는 최근에 무슨 영화 봤어? 키키, 2 : 최근에 영화관 간 기억이 없네...   \n",
       "\n",
       "                                             content  \n",
       "0  [1 : 이제 위드 코로나 하면 회식 시작하겠구만 , 2 : 11월달부터 위드 코로...  \n",
       "1  [1 : 전기료가 오른다네... 세상에나, 2 : 아 맞어 키로와트당 40원?, 1...  \n",
       "2  [1 : 미국 열차 안에서 성폭행 사건 있었대 ㅠㅠ, 2 : 열차 안에서? 2 : ...  \n",
       "3  [1 : 남자친구는 육군 나왔어~?, 2 : 육군 나왔어ㅋ 50사단인가?, 1 : ...  \n",
       "4  [1 : 너는 최근에 무슨 영화 봤어? , 2 : 최근에 영화관 간 기억이 없네요,...  "
      ]
     },
     "execution_count": 20,
     "metadata": {},
     "output_type": "execute_result"
    }
   ],
   "source": [
    "df_temp.head()"
   ]
  },
  {
   "cell_type": "code",
   "execution_count": 21,
   "id": "102089cc-dce0-4ea4-809d-e2f268d4f5c8",
   "metadata": {},
   "outputs": [
    {
     "data": {
      "text/plain": [
       "['1 : 이제 위드 코로나 하면 회식 시작하겠구만 ',\n",
       " '2 : 11월달부터 위드 코로나 하려나 보던데요 ',\n",
       " '1 : 그러게 슬슬 준비하고 있네 ',\n",
       " '2 :  회식 좋아하는 사람들에게 희소식이겠네요',\n",
       " '1 : 그러게  신입 사원들은 이제 큰일이네',\n",
       " '2 : 아 그렇겠네요  2 : 신입들은 회식을 피하고 싶겠네요',\n",
       " '1 :  뭐 글도 올라온대  회식 어떻게 하냐고',\n",
       " '2 :  회식 문화 좀 사라질 줄 알았는데 더 가열차지는 거 아니에요',\n",
       " '1 :  그러게  난리 나겠다 1 : 진짜 송년회 신년회 다 할 듯',\n",
       " '2 : 와  생각만 해도 술 냄새 나네요 ',\n",
       " '1 :  이제 술술술 시작인가요 ',\n",
       " '2 :  전 술 좋아해서 별 생각 없긴 한데',\n",
       " '1 :  뭐 그러면 공짜 술 먹고 좋지 1 : 아직 체력이 좋네',\n",
       " '2 :  형은 회식 별로 안 좋아하나 봐요?',\n",
       " '1 : 좋아는 하지만 이제 다음날 출근이 힘들어서  1 : 출근 안 하고 회식했으면']"
      ]
     },
     "execution_count": 21,
     "metadata": {},
     "output_type": "execute_result"
    }
   ],
   "source": [
    "df_temp.content[0]"
   ]
  },
  {
   "cell_type": "markdown",
   "id": "aea78a41-60aa-497e-a827-cd4ef3fa26b0",
   "metadata": {},
   "source": [
    "### "
   ]
  },
  {
   "cell_type": "markdown",
   "id": "611712fb-74b2-4489-b63c-6ea604841a6e",
   "metadata": {},
   "source": [
    "### 구조 변경"
   ]
  },
  {
   "cell_type": "code",
   "execution_count": 22,
   "id": "8f4a04ff-c49d-4a98-9ea3-e3c7b6a64250",
   "metadata": {},
   "outputs": [
    {
     "data": {
      "application/vnd.jupyter.widget-view+json": {
       "model_id": "cd04ea048c9847bd84910a513cc0db64",
       "version_major": 2,
       "version_minor": 0
      },
      "text/plain": [
       "Pandas Apply:   0%|          | 0/64048 [00:00<?, ?it/s]"
      ]
     },
     "metadata": {},
     "output_type": "display_data"
    },
    {
     "name": "stderr",
     "output_type": "stream",
     "text": [
      "<ipython-input-22-6d99aa01514a>:1: DeprecationWarning: The default dtype for empty Series will be 'object' instead of 'float64' in a future version. Specify a dtype explicitly to silence this warning.\n",
      "  df_transform = df_temp.content.swifter.apply(lambda x: pd.Series(x))\n"
     ]
    }
   ],
   "source": [
    "df_transform = df_temp.content.swifter.apply(lambda x: pd.Series(x))"
   ]
  },
  {
   "cell_type": "code",
   "execution_count": 23,
   "id": "5cd4949f-bc69-45dd-b410-df6a63d90ce2",
   "metadata": {},
   "outputs": [
    {
     "data": {
      "text/html": [
       "<div>\n",
       "<style scoped>\n",
       "    .dataframe tbody tr th:only-of-type {\n",
       "        vertical-align: middle;\n",
       "    }\n",
       "\n",
       "    .dataframe tbody tr th {\n",
       "        vertical-align: top;\n",
       "    }\n",
       "\n",
       "    .dataframe thead th {\n",
       "        text-align: right;\n",
       "    }\n",
       "</style>\n",
       "<table border=\"1\" class=\"dataframe\">\n",
       "  <thead>\n",
       "    <tr style=\"text-align: right;\">\n",
       "      <th></th>\n",
       "      <th>0</th>\n",
       "      <th>1</th>\n",
       "      <th>2</th>\n",
       "      <th>3</th>\n",
       "      <th>4</th>\n",
       "      <th>5</th>\n",
       "      <th>6</th>\n",
       "      <th>7</th>\n",
       "      <th>8</th>\n",
       "      <th>9</th>\n",
       "      <th>...</th>\n",
       "      <th>46</th>\n",
       "      <th>47</th>\n",
       "      <th>48</th>\n",
       "      <th>49</th>\n",
       "      <th>50</th>\n",
       "      <th>51</th>\n",
       "      <th>52</th>\n",
       "      <th>53</th>\n",
       "      <th>54</th>\n",
       "      <th>55</th>\n",
       "    </tr>\n",
       "  </thead>\n",
       "  <tbody>\n",
       "    <tr>\n",
       "      <th>0</th>\n",
       "      <td>1 : 이제 위드 코로나 하면 회식 시작하겠구만</td>\n",
       "      <td>2 : 11월달부터 위드 코로나 하려나 보던데요</td>\n",
       "      <td>1 : 그러게 슬슬 준비하고 있네</td>\n",
       "      <td>2 :  회식 좋아하는 사람들에게 희소식이겠네요</td>\n",
       "      <td>1 : 그러게  신입 사원들은 이제 큰일이네</td>\n",
       "      <td>2 : 아 그렇겠네요  2 : 신입들은 회식을 피하고 싶겠네요</td>\n",
       "      <td>1 :  뭐 글도 올라온대  회식 어떻게 하냐고</td>\n",
       "      <td>2 :  회식 문화 좀 사라질 줄 알았는데 더 가열차지는 거 아니에요</td>\n",
       "      <td>1 :  그러게  난리 나겠다 1 : 진짜 송년회 신년회 다 할 듯</td>\n",
       "      <td>2 : 와  생각만 해도 술 냄새 나네요</td>\n",
       "      <td>...</td>\n",
       "      <td>NaN</td>\n",
       "      <td>NaN</td>\n",
       "      <td>NaN</td>\n",
       "      <td>NaN</td>\n",
       "      <td>NaN</td>\n",
       "      <td>NaN</td>\n",
       "      <td>NaN</td>\n",
       "      <td>NaN</td>\n",
       "      <td>NaN</td>\n",
       "      <td>NaN</td>\n",
       "    </tr>\n",
       "    <tr>\n",
       "      <th>1</th>\n",
       "      <td>1 : 전기료가 오른다네... 세상에나</td>\n",
       "      <td>2 : 아 맞어 키로와트당 40원?</td>\n",
       "      <td>1 : 안 오르는 게 없어요</td>\n",
       "      <td>2 : 물가는 다 오르는데 인건비는 왜.</td>\n",
       "      <td>1 : 알제 전기료 오르면 모든 게 다 오른다고</td>\n",
       "      <td>2 : 도대체 인건비는 왜 안 오르냐고</td>\n",
       "      <td>1 :  내 말이 또 최저 시급은 오르던데</td>\n",
       "      <td>2 : 아니 인건비가 아니라 임금이지</td>\n",
       "      <td>1 : 월급은 최저 시급이랑 노 상관인 듯</td>\n",
       "      <td>2 : 아니 진짜 너무하네</td>\n",
       "      <td>...</td>\n",
       "      <td>NaN</td>\n",
       "      <td>NaN</td>\n",
       "      <td>NaN</td>\n",
       "      <td>NaN</td>\n",
       "      <td>NaN</td>\n",
       "      <td>NaN</td>\n",
       "      <td>NaN</td>\n",
       "      <td>NaN</td>\n",
       "      <td>NaN</td>\n",
       "      <td>NaN</td>\n",
       "    </tr>\n",
       "    <tr>\n",
       "      <th>2</th>\n",
       "      <td>1 : 미국 열차 안에서 성폭행 사건 있었대 ㅠㅠ</td>\n",
       "      <td>2 : 열차 안에서? 2 : 그게 가능한 일이야?</td>\n",
       "      <td>1 : 그니깐 ㅜㅜ밤에 그랬대 ㅜㅜ 1 : 주위에 사람들 있었다는데 다들 무관심했나 봐</td>\n",
       "      <td>2 : 거기 안에 있던 사람들이 방관한 건 아니지?</td>\n",
       "      <td>1 : 했지 1 : 심지어 찍는 사람도 있었대 ㅜㅜ 1 : 다들 911에 신고는 안...</td>\n",
       "      <td>2 : 헐 그게 뭐야 2 : 다들 미친 거 아니야?</td>\n",
       "      <td>1 : 내 말이 ㅜㅜ 1 : 사십분 뒤에야 경찰 왔다더라</td>\n",
       "      <td>2 : 그 여자 되게 충격에 빠졌겠는 걸... 2 : 촬영한 사람들도 불법 아니야?</td>\n",
       "      <td>1 : 그래서 승객들도 촬영했는지 조사 중이래</td>\n",
       "      <td>2 : 어 그거 진짜 확인 잘 해야 될 거 같은데 그 사람 나중에 자살해봐</td>\n",
       "      <td>...</td>\n",
       "      <td>NaN</td>\n",
       "      <td>NaN</td>\n",
       "      <td>NaN</td>\n",
       "      <td>NaN</td>\n",
       "      <td>NaN</td>\n",
       "      <td>NaN</td>\n",
       "      <td>NaN</td>\n",
       "      <td>NaN</td>\n",
       "      <td>NaN</td>\n",
       "      <td>NaN</td>\n",
       "    </tr>\n",
       "  </tbody>\n",
       "</table>\n",
       "<p>3 rows × 56 columns</p>\n",
       "</div>"
      ],
      "text/plain": [
       "                            0                            1   \\\n",
       "0  1 : 이제 위드 코로나 하면 회식 시작하겠구만   2 : 11월달부터 위드 코로나 하려나 보던데요    \n",
       "1        1 : 전기료가 오른다네... 세상에나          2 : 아 맞어 키로와트당 40원?   \n",
       "2  1 : 미국 열차 안에서 성폭행 사건 있었대 ㅠㅠ  2 : 열차 안에서? 2 : 그게 가능한 일이야?   \n",
       "\n",
       "                                                 2   \\\n",
       "0                               1 : 그러게 슬슬 준비하고 있네    \n",
       "1                                   1 : 안 오르는 게 없어요   \n",
       "2  1 : 그니깐 ㅜㅜ밤에 그랬대 ㅜㅜ 1 : 주위에 사람들 있었다는데 다들 무관심했나 봐   \n",
       "\n",
       "                             3   \\\n",
       "0    2 :  회식 좋아하는 사람들에게 희소식이겠네요   \n",
       "1        2 : 물가는 다 오르는데 인건비는 왜.   \n",
       "2  2 : 거기 안에 있던 사람들이 방관한 건 아니지?   \n",
       "\n",
       "                                                  4   \\\n",
       "0                           1 : 그러게  신입 사원들은 이제 큰일이네   \n",
       "1                         1 : 알제 전기료 오르면 모든 게 다 오른다고   \n",
       "2  1 : 했지 1 : 심지어 찍는 사람도 있었대 ㅜㅜ 1 : 다들 911에 신고는 안...   \n",
       "\n",
       "                                   5                                6   \\\n",
       "0  2 : 아 그렇겠네요  2 : 신입들은 회식을 피하고 싶겠네요       1 :  뭐 글도 올라온대  회식 어떻게 하냐고   \n",
       "1               2 : 도대체 인건비는 왜 안 오르냐고          1 :  내 말이 또 최저 시급은 오르던데   \n",
       "2        2 : 헐 그게 뭐야 2 : 다들 미친 거 아니야?  1 : 내 말이 ㅜㅜ 1 : 사십분 뒤에야 경찰 왔다더라   \n",
       "\n",
       "                                               7   \\\n",
       "0          2 :  회식 문화 좀 사라질 줄 알았는데 더 가열차지는 거 아니에요   \n",
       "1                            2 : 아니 인건비가 아니라 임금이지   \n",
       "2  2 : 그 여자 되게 충격에 빠졌겠는 걸... 2 : 촬영한 사람들도 불법 아니야?   \n",
       "\n",
       "                                      8   \\\n",
       "0  1 :  그러게  난리 나겠다 1 : 진짜 송년회 신년회 다 할 듯   \n",
       "1                1 : 월급은 최저 시급이랑 노 상관인 듯   \n",
       "2              1 : 그래서 승객들도 촬영했는지 조사 중이래   \n",
       "\n",
       "                                          9   ...   46   47   48   49   50  \\\n",
       "0                    2 : 와  생각만 해도 술 냄새 나네요   ...  NaN  NaN  NaN  NaN  NaN   \n",
       "1                             2 : 아니 진짜 너무하네  ...  NaN  NaN  NaN  NaN  NaN   \n",
       "2  2 : 어 그거 진짜 확인 잘 해야 될 거 같은데 그 사람 나중에 자살해봐  ...  NaN  NaN  NaN  NaN  NaN   \n",
       "\n",
       "    51   52   53   54   55  \n",
       "0  NaN  NaN  NaN  NaN  NaN  \n",
       "1  NaN  NaN  NaN  NaN  NaN  \n",
       "2  NaN  NaN  NaN  NaN  NaN  \n",
       "\n",
       "[3 rows x 56 columns]"
      ]
     },
     "execution_count": 23,
     "metadata": {},
     "output_type": "execute_result"
    }
   ],
   "source": [
    "df_transform.head(3)"
   ]
  },
  {
   "cell_type": "code",
   "execution_count": 24,
   "id": "e5a8e2a8-686b-4f25-8e8e-1f41dc6aa24d",
   "metadata": {},
   "outputs": [],
   "source": [
    "df = df_transform.stack().reset_index()"
   ]
  },
  {
   "cell_type": "code",
   "execution_count": 25,
   "id": "dd07557b-08eb-4c9e-bec9-709f550e8b18",
   "metadata": {},
   "outputs": [],
   "source": [
    "df.rename(columns={'level_0' : 'room_no', 0 : 'content'}, inplace=True)"
   ]
  },
  {
   "cell_type": "code",
   "execution_count": 26,
   "id": "51fd003a-4d20-4ab8-805d-3d3f10264b9f",
   "metadata": {},
   "outputs": [
    {
     "data": {
      "text/html": [
       "<div>\n",
       "<style scoped>\n",
       "    .dataframe tbody tr th:only-of-type {\n",
       "        vertical-align: middle;\n",
       "    }\n",
       "\n",
       "    .dataframe tbody tr th {\n",
       "        vertical-align: top;\n",
       "    }\n",
       "\n",
       "    .dataframe thead th {\n",
       "        text-align: right;\n",
       "    }\n",
       "</style>\n",
       "<table border=\"1\" class=\"dataframe\">\n",
       "  <thead>\n",
       "    <tr style=\"text-align: right;\">\n",
       "      <th></th>\n",
       "      <th>room_no</th>\n",
       "      <th>level_1</th>\n",
       "      <th>content</th>\n",
       "    </tr>\n",
       "  </thead>\n",
       "  <tbody>\n",
       "    <tr>\n",
       "      <th>0</th>\n",
       "      <td>0</td>\n",
       "      <td>0</td>\n",
       "      <td>1 : 이제 위드 코로나 하면 회식 시작하겠구만</td>\n",
       "    </tr>\n",
       "    <tr>\n",
       "      <th>1</th>\n",
       "      <td>0</td>\n",
       "      <td>1</td>\n",
       "      <td>2 : 11월달부터 위드 코로나 하려나 보던데요</td>\n",
       "    </tr>\n",
       "    <tr>\n",
       "      <th>2</th>\n",
       "      <td>0</td>\n",
       "      <td>2</td>\n",
       "      <td>1 : 그러게 슬슬 준비하고 있네</td>\n",
       "    </tr>\n",
       "    <tr>\n",
       "      <th>3</th>\n",
       "      <td>0</td>\n",
       "      <td>3</td>\n",
       "      <td>2 :  회식 좋아하는 사람들에게 희소식이겠네요</td>\n",
       "    </tr>\n",
       "    <tr>\n",
       "      <th>4</th>\n",
       "      <td>0</td>\n",
       "      <td>4</td>\n",
       "      <td>1 : 그러게  신입 사원들은 이제 큰일이네</td>\n",
       "    </tr>\n",
       "    <tr>\n",
       "      <th>5</th>\n",
       "      <td>0</td>\n",
       "      <td>5</td>\n",
       "      <td>2 : 아 그렇겠네요  2 : 신입들은 회식을 피하고 싶겠네요</td>\n",
       "    </tr>\n",
       "    <tr>\n",
       "      <th>6</th>\n",
       "      <td>0</td>\n",
       "      <td>6</td>\n",
       "      <td>1 :  뭐 글도 올라온대  회식 어떻게 하냐고</td>\n",
       "    </tr>\n",
       "    <tr>\n",
       "      <th>7</th>\n",
       "      <td>0</td>\n",
       "      <td>7</td>\n",
       "      <td>2 :  회식 문화 좀 사라질 줄 알았는데 더 가열차지는 거 아니에요</td>\n",
       "    </tr>\n",
       "    <tr>\n",
       "      <th>8</th>\n",
       "      <td>0</td>\n",
       "      <td>8</td>\n",
       "      <td>1 :  그러게  난리 나겠다 1 : 진짜 송년회 신년회 다 할 듯</td>\n",
       "    </tr>\n",
       "    <tr>\n",
       "      <th>9</th>\n",
       "      <td>0</td>\n",
       "      <td>9</td>\n",
       "      <td>2 : 와  생각만 해도 술 냄새 나네요</td>\n",
       "    </tr>\n",
       "    <tr>\n",
       "      <th>10</th>\n",
       "      <td>0</td>\n",
       "      <td>10</td>\n",
       "      <td>1 :  이제 술술술 시작인가요</td>\n",
       "    </tr>\n",
       "    <tr>\n",
       "      <th>11</th>\n",
       "      <td>0</td>\n",
       "      <td>11</td>\n",
       "      <td>2 :  전 술 좋아해서 별 생각 없긴 한데</td>\n",
       "    </tr>\n",
       "    <tr>\n",
       "      <th>12</th>\n",
       "      <td>0</td>\n",
       "      <td>12</td>\n",
       "      <td>1 :  뭐 그러면 공짜 술 먹고 좋지 1 : 아직 체력이 좋네</td>\n",
       "    </tr>\n",
       "    <tr>\n",
       "      <th>13</th>\n",
       "      <td>0</td>\n",
       "      <td>13</td>\n",
       "      <td>2 :  형은 회식 별로 안 좋아하나 봐요?</td>\n",
       "    </tr>\n",
       "    <tr>\n",
       "      <th>14</th>\n",
       "      <td>0</td>\n",
       "      <td>14</td>\n",
       "      <td>1 : 좋아는 하지만 이제 다음날 출근이 힘들어서  1 : 출근 안 하고 회식했으면</td>\n",
       "    </tr>\n",
       "    <tr>\n",
       "      <th>15</th>\n",
       "      <td>1</td>\n",
       "      <td>0</td>\n",
       "      <td>1 : 전기료가 오른다네... 세상에나</td>\n",
       "    </tr>\n",
       "    <tr>\n",
       "      <th>16</th>\n",
       "      <td>1</td>\n",
       "      <td>1</td>\n",
       "      <td>2 : 아 맞어 키로와트당 40원?</td>\n",
       "    </tr>\n",
       "    <tr>\n",
       "      <th>17</th>\n",
       "      <td>1</td>\n",
       "      <td>2</td>\n",
       "      <td>1 : 안 오르는 게 없어요</td>\n",
       "    </tr>\n",
       "    <tr>\n",
       "      <th>18</th>\n",
       "      <td>1</td>\n",
       "      <td>3</td>\n",
       "      <td>2 : 물가는 다 오르는데 인건비는 왜.</td>\n",
       "    </tr>\n",
       "    <tr>\n",
       "      <th>19</th>\n",
       "      <td>1</td>\n",
       "      <td>4</td>\n",
       "      <td>1 : 알제 전기료 오르면 모든 게 다 오른다고</td>\n",
       "    </tr>\n",
       "  </tbody>\n",
       "</table>\n",
       "</div>"
      ],
      "text/plain": [
       "    room_no  level_1                                         content\n",
       "0         0        0                     1 : 이제 위드 코로나 하면 회식 시작하겠구만 \n",
       "1         0        1                     2 : 11월달부터 위드 코로나 하려나 보던데요 \n",
       "2         0        2                             1 : 그러게 슬슬 준비하고 있네 \n",
       "3         0        3                      2 :  회식 좋아하는 사람들에게 희소식이겠네요\n",
       "4         0        4                        1 : 그러게  신입 사원들은 이제 큰일이네\n",
       "5         0        5              2 : 아 그렇겠네요  2 : 신입들은 회식을 피하고 싶겠네요\n",
       "6         0        6                      1 :  뭐 글도 올라온대  회식 어떻게 하냐고\n",
       "7         0        7          2 :  회식 문화 좀 사라질 줄 알았는데 더 가열차지는 거 아니에요\n",
       "8         0        8           1 :  그러게  난리 나겠다 1 : 진짜 송년회 신년회 다 할 듯\n",
       "9         0        9                         2 : 와  생각만 해도 술 냄새 나네요 \n",
       "10        0       10                              1 :  이제 술술술 시작인가요 \n",
       "11        0       11                        2 :  전 술 좋아해서 별 생각 없긴 한데\n",
       "12        0       12             1 :  뭐 그러면 공짜 술 먹고 좋지 1 : 아직 체력이 좋네\n",
       "13        0       13                        2 :  형은 회식 별로 안 좋아하나 봐요?\n",
       "14        0       14  1 : 좋아는 하지만 이제 다음날 출근이 힘들어서  1 : 출근 안 하고 회식했으면\n",
       "15        1        0                           1 : 전기료가 오른다네... 세상에나\n",
       "16        1        1                             2 : 아 맞어 키로와트당 40원?\n",
       "17        1        2                                 1 : 안 오르는 게 없어요\n",
       "18        1        3                          2 : 물가는 다 오르는데 인건비는 왜.\n",
       "19        1        4                      1 : 알제 전기료 오르면 모든 게 다 오른다고"
      ]
     },
     "execution_count": 26,
     "metadata": {},
     "output_type": "execute_result"
    }
   ],
   "source": [
    "df.head(20)"
   ]
  },
  {
   "cell_type": "markdown",
   "id": "58cb1c21-bd57-4672-887d-da470689b3aa",
   "metadata": {},
   "source": [
    "### "
   ]
  },
  {
   "cell_type": "markdown",
   "id": "36207043-b0e7-4e40-a1ac-1312f74ddcf6",
   "metadata": {},
   "source": [
    "### make speaker"
   ]
  },
  {
   "cell_type": "code",
   "execution_count": 27,
   "id": "db5c97cc-61d5-4456-8828-a30181861240",
   "metadata": {},
   "outputs": [
    {
     "data": {
      "application/vnd.jupyter.widget-view+json": {
       "model_id": "eb6ac7a04706444d8ee9f3fb310a4b3c",
       "version_major": 2,
       "version_minor": 0
      },
      "text/plain": [
       "Pandas Apply:   0%|          | 0/726909 [00:00<?, ?it/s]"
      ]
     },
     "metadata": {},
     "output_type": "display_data"
    }
   ],
   "source": [
    "df['speaker'] = df.content.swifter.apply(lambda x: x[:1])"
   ]
  },
  {
   "cell_type": "code",
   "execution_count": 28,
   "id": "85f33449-dc40-4047-b13a-8b6d08ca45ac",
   "metadata": {},
   "outputs": [],
   "source": [
    "df = df[['content', 'room_no', 'speaker']]"
   ]
  },
  {
   "cell_type": "code",
   "execution_count": 29,
   "id": "bef8f3b9-5603-402e-b8d1-b32beb286e07",
   "metadata": {},
   "outputs": [
    {
     "data": {
      "text/html": [
       "<div>\n",
       "<style scoped>\n",
       "    .dataframe tbody tr th:only-of-type {\n",
       "        vertical-align: middle;\n",
       "    }\n",
       "\n",
       "    .dataframe tbody tr th {\n",
       "        vertical-align: top;\n",
       "    }\n",
       "\n",
       "    .dataframe thead th {\n",
       "        text-align: right;\n",
       "    }\n",
       "</style>\n",
       "<table border=\"1\" class=\"dataframe\">\n",
       "  <thead>\n",
       "    <tr style=\"text-align: right;\">\n",
       "      <th></th>\n",
       "      <th>content</th>\n",
       "      <th>room_no</th>\n",
       "      <th>speaker</th>\n",
       "    </tr>\n",
       "  </thead>\n",
       "  <tbody>\n",
       "    <tr>\n",
       "      <th>0</th>\n",
       "      <td>1 : 이제 위드 코로나 하면 회식 시작하겠구만</td>\n",
       "      <td>0</td>\n",
       "      <td>1</td>\n",
       "    </tr>\n",
       "    <tr>\n",
       "      <th>1</th>\n",
       "      <td>2 : 11월달부터 위드 코로나 하려나 보던데요</td>\n",
       "      <td>0</td>\n",
       "      <td>2</td>\n",
       "    </tr>\n",
       "    <tr>\n",
       "      <th>2</th>\n",
       "      <td>1 : 그러게 슬슬 준비하고 있네</td>\n",
       "      <td>0</td>\n",
       "      <td>1</td>\n",
       "    </tr>\n",
       "    <tr>\n",
       "      <th>3</th>\n",
       "      <td>2 :  회식 좋아하는 사람들에게 희소식이겠네요</td>\n",
       "      <td>0</td>\n",
       "      <td>2</td>\n",
       "    </tr>\n",
       "    <tr>\n",
       "      <th>4</th>\n",
       "      <td>1 : 그러게  신입 사원들은 이제 큰일이네</td>\n",
       "      <td>0</td>\n",
       "      <td>1</td>\n",
       "    </tr>\n",
       "  </tbody>\n",
       "</table>\n",
       "</div>"
      ],
      "text/plain": [
       "                       content  room_no speaker\n",
       "0  1 : 이제 위드 코로나 하면 회식 시작하겠구만         0       1\n",
       "1  2 : 11월달부터 위드 코로나 하려나 보던데요         0       2\n",
       "2          1 : 그러게 슬슬 준비하고 있네         0       1\n",
       "3   2 :  회식 좋아하는 사람들에게 희소식이겠네요        0       2\n",
       "4     1 : 그러게  신입 사원들은 이제 큰일이네        0       1"
      ]
     },
     "execution_count": 29,
     "metadata": {},
     "output_type": "execute_result"
    }
   ],
   "source": [
    "df.head()"
   ]
  },
  {
   "cell_type": "markdown",
   "id": "a1228e5f-b227-4046-9a69-27c3360f0a0c",
   "metadata": {},
   "source": [
    "### "
   ]
  },
  {
   "cell_type": "markdown",
   "id": "e27398ed-146a-4372-a5c1-0afdffdfec3d",
   "metadata": {},
   "source": [
    "### 1 : 2 : 제거 & 빈칸 제거"
   ]
  },
  {
   "cell_type": "code",
   "execution_count": 30,
   "id": "9c078ee7-a6f7-44cd-91d9-df23dbd368aa",
   "metadata": {},
   "outputs": [
    {
     "data": {
      "application/vnd.jupyter.widget-view+json": {
       "model_id": "9313ca8ff32441c0862fbc0f292cb245",
       "version_major": 2,
       "version_minor": 0
      },
      "text/plain": [
       "Pandas Apply:   0%|          | 0/726909 [00:00<?, ?it/s]"
      ]
     },
     "metadata": {},
     "output_type": "display_data"
    }
   ],
   "source": [
    "df['content'] = df.content.swifter.apply(lambda x: re.sub('([0-9])+ :', '', x))"
   ]
  },
  {
   "cell_type": "code",
   "execution_count": 31,
   "id": "fa0b1ee4-5df3-4ecd-a04a-2435debd461a",
   "metadata": {},
   "outputs": [
    {
     "data": {
      "application/vnd.jupyter.widget-view+json": {
       "model_id": "f04298d594ed4d46a98dcd513b872e1e",
       "version_major": 2,
       "version_minor": 0
      },
      "text/plain": [
       "Pandas Apply:   0%|          | 0/726909 [00:00<?, ?it/s]"
      ]
     },
     "metadata": {},
     "output_type": "display_data"
    }
   ],
   "source": [
    "df['content'] = df.content.swifter.apply(lambda x: x.strip().replace('  ', ' '))"
   ]
  },
  {
   "cell_type": "code",
   "execution_count": 32,
   "id": "f9580e9a-a722-41bd-a2da-b269cc8f53fe",
   "metadata": {},
   "outputs": [
    {
     "data": {
      "text/html": [
       "<div>\n",
       "<style scoped>\n",
       "    .dataframe tbody tr th:only-of-type {\n",
       "        vertical-align: middle;\n",
       "    }\n",
       "\n",
       "    .dataframe tbody tr th {\n",
       "        vertical-align: top;\n",
       "    }\n",
       "\n",
       "    .dataframe thead th {\n",
       "        text-align: right;\n",
       "    }\n",
       "</style>\n",
       "<table border=\"1\" class=\"dataframe\">\n",
       "  <thead>\n",
       "    <tr style=\"text-align: right;\">\n",
       "      <th></th>\n",
       "      <th>content</th>\n",
       "      <th>room_no</th>\n",
       "      <th>speaker</th>\n",
       "    </tr>\n",
       "  </thead>\n",
       "  <tbody>\n",
       "    <tr>\n",
       "      <th>0</th>\n",
       "      <td>이제 위드 코로나 하면 회식 시작하겠구만</td>\n",
       "      <td>0</td>\n",
       "      <td>1</td>\n",
       "    </tr>\n",
       "    <tr>\n",
       "      <th>1</th>\n",
       "      <td>11월달부터 위드 코로나 하려나 보던데요</td>\n",
       "      <td>0</td>\n",
       "      <td>2</td>\n",
       "    </tr>\n",
       "    <tr>\n",
       "      <th>2</th>\n",
       "      <td>그러게 슬슬 준비하고 있네</td>\n",
       "      <td>0</td>\n",
       "      <td>1</td>\n",
       "    </tr>\n",
       "    <tr>\n",
       "      <th>3</th>\n",
       "      <td>회식 좋아하는 사람들에게 희소식이겠네요</td>\n",
       "      <td>0</td>\n",
       "      <td>2</td>\n",
       "    </tr>\n",
       "    <tr>\n",
       "      <th>4</th>\n",
       "      <td>그러게 신입 사원들은 이제 큰일이네</td>\n",
       "      <td>0</td>\n",
       "      <td>1</td>\n",
       "    </tr>\n",
       "    <tr>\n",
       "      <th>5</th>\n",
       "      <td>아 그렇겠네요  신입들은 회식을 피하고 싶겠네요</td>\n",
       "      <td>0</td>\n",
       "      <td>2</td>\n",
       "    </tr>\n",
       "    <tr>\n",
       "      <th>6</th>\n",
       "      <td>뭐 글도 올라온대 회식 어떻게 하냐고</td>\n",
       "      <td>0</td>\n",
       "      <td>1</td>\n",
       "    </tr>\n",
       "    <tr>\n",
       "      <th>7</th>\n",
       "      <td>회식 문화 좀 사라질 줄 알았는데 더 가열차지는 거 아니에요</td>\n",
       "      <td>0</td>\n",
       "      <td>2</td>\n",
       "    </tr>\n",
       "    <tr>\n",
       "      <th>8</th>\n",
       "      <td>그러게 난리 나겠다 진짜 송년회 신년회 다 할 듯</td>\n",
       "      <td>0</td>\n",
       "      <td>1</td>\n",
       "    </tr>\n",
       "    <tr>\n",
       "      <th>9</th>\n",
       "      <td>와 생각만 해도 술 냄새 나네요</td>\n",
       "      <td>0</td>\n",
       "      <td>2</td>\n",
       "    </tr>\n",
       "    <tr>\n",
       "      <th>10</th>\n",
       "      <td>이제 술술술 시작인가요</td>\n",
       "      <td>0</td>\n",
       "      <td>1</td>\n",
       "    </tr>\n",
       "    <tr>\n",
       "      <th>11</th>\n",
       "      <td>전 술 좋아해서 별 생각 없긴 한데</td>\n",
       "      <td>0</td>\n",
       "      <td>2</td>\n",
       "    </tr>\n",
       "    <tr>\n",
       "      <th>12</th>\n",
       "      <td>뭐 그러면 공짜 술 먹고 좋지 아직 체력이 좋네</td>\n",
       "      <td>0</td>\n",
       "      <td>1</td>\n",
       "    </tr>\n",
       "    <tr>\n",
       "      <th>13</th>\n",
       "      <td>형은 회식 별로 안 좋아하나 봐요?</td>\n",
       "      <td>0</td>\n",
       "      <td>2</td>\n",
       "    </tr>\n",
       "    <tr>\n",
       "      <th>14</th>\n",
       "      <td>좋아는 하지만 이제 다음날 출근이 힘들어서  출근 안 하고 회식했으면</td>\n",
       "      <td>0</td>\n",
       "      <td>1</td>\n",
       "    </tr>\n",
       "    <tr>\n",
       "      <th>15</th>\n",
       "      <td>전기료가 오른다네... 세상에나</td>\n",
       "      <td>1</td>\n",
       "      <td>1</td>\n",
       "    </tr>\n",
       "    <tr>\n",
       "      <th>16</th>\n",
       "      <td>아 맞어 키로와트당 40원?</td>\n",
       "      <td>1</td>\n",
       "      <td>2</td>\n",
       "    </tr>\n",
       "    <tr>\n",
       "      <th>17</th>\n",
       "      <td>안 오르는 게 없어요</td>\n",
       "      <td>1</td>\n",
       "      <td>1</td>\n",
       "    </tr>\n",
       "    <tr>\n",
       "      <th>18</th>\n",
       "      <td>물가는 다 오르는데 인건비는 왜.</td>\n",
       "      <td>1</td>\n",
       "      <td>2</td>\n",
       "    </tr>\n",
       "    <tr>\n",
       "      <th>19</th>\n",
       "      <td>알제 전기료 오르면 모든 게 다 오른다고</td>\n",
       "      <td>1</td>\n",
       "      <td>1</td>\n",
       "    </tr>\n",
       "  </tbody>\n",
       "</table>\n",
       "</div>"
      ],
      "text/plain": [
       "                                   content  room_no speaker\n",
       "0                   이제 위드 코로나 하면 회식 시작하겠구만        0       1\n",
       "1                   11월달부터 위드 코로나 하려나 보던데요        0       2\n",
       "2                           그러게 슬슬 준비하고 있네        0       1\n",
       "3                    회식 좋아하는 사람들에게 희소식이겠네요        0       2\n",
       "4                      그러게 신입 사원들은 이제 큰일이네        0       1\n",
       "5               아 그렇겠네요  신입들은 회식을 피하고 싶겠네요        0       2\n",
       "6                     뭐 글도 올라온대 회식 어떻게 하냐고        0       1\n",
       "7        회식 문화 좀 사라질 줄 알았는데 더 가열차지는 거 아니에요        0       2\n",
       "8              그러게 난리 나겠다 진짜 송년회 신년회 다 할 듯        0       1\n",
       "9                        와 생각만 해도 술 냄새 나네요        0       2\n",
       "10                            이제 술술술 시작인가요        0       1\n",
       "11                     전 술 좋아해서 별 생각 없긴 한데        0       2\n",
       "12              뭐 그러면 공짜 술 먹고 좋지 아직 체력이 좋네        0       1\n",
       "13                     형은 회식 별로 안 좋아하나 봐요?        0       2\n",
       "14  좋아는 하지만 이제 다음날 출근이 힘들어서  출근 안 하고 회식했으면        0       1\n",
       "15                       전기료가 오른다네... 세상에나        1       1\n",
       "16                         아 맞어 키로와트당 40원?        1       2\n",
       "17                             안 오르는 게 없어요        1       1\n",
       "18                      물가는 다 오르는데 인건비는 왜.        1       2\n",
       "19                  알제 전기료 오르면 모든 게 다 오른다고        1       1"
      ]
     },
     "execution_count": 32,
     "metadata": {},
     "output_type": "execute_result"
    }
   ],
   "source": [
    "df.head(20)"
   ]
  },
  {
   "cell_type": "markdown",
   "id": "dbe0ed1d-35f9-4022-a134-778367bf8d71",
   "metadata": {},
   "source": [
    "### "
   ]
  },
  {
   "cell_type": "code",
   "execution_count": 33,
   "id": "d9cc9c26-e62a-4f71-be92-db244d94c21a",
   "metadata": {},
   "outputs": [],
   "source": [
    "# result_data = []\n",
    "\n",
    "# for k, v in enumerate(df_temp.iterrows()):\n",
    "#     temp_data = v[1]['content'].replace('1 :', ' 1 :').replace('2 :', ' 2 :').replace(' :  ', ':').replace(' : ', ':')\n",
    "#     split_data = temp_data.split('  ')\n",
    "#     split_data = [i.replace(' 1:', '1:').replace(' 2:', '2:') for i in split_data]\n",
    "\n",
    "#     result = []\n",
    "#     for kk, vv in enumerate(split_data):\n",
    "#         if len(result) != 0:\n",
    "#             if result[kk-1].startswith('1:') and vv.startswith('1:'):\n",
    "#                 result.append(str(result[kk-1]) + \" \" + vv)\n",
    "#                 continue\n",
    "#             elif result[kk-1].startswith('2:') and vv.startswith('2:'):\n",
    "#                 result.append(str(result[kk-1]) + \" \" + vv)\n",
    "#                 continue\n",
    "#             elif not vv.startswith('1:') and not vv.startswith('2:'):\n",
    "#                 result.append(str(result[kk-1]) + \" \" + vv)\n",
    "#                 continue\n",
    "#         result.append(vv)\n",
    "    \n",
    "#     result2 = []\n",
    "#     for kkk, vvv in enumerate(result):\n",
    "#         if kkk != len(result)-1:\n",
    "#             if result[kkk+1].startswith(result[kkk]):\n",
    "#                 pass\n",
    "#             else:\n",
    "#                 result2.append(result[kkk])\n",
    "\n",
    "#     result_data.append(result2)"
   ]
  },
  {
   "cell_type": "markdown",
   "id": "37cdeb4d-064c-45df-b020-c9cf292ef9f9",
   "metadata": {},
   "source": [
    "### "
   ]
  },
  {
   "cell_type": "markdown",
   "id": "7df73988-e54a-4a76-8c95-352842985fa4",
   "metadata": {},
   "source": [
    "# Create DefaultDict & DataFrame"
   ]
  },
  {
   "cell_type": "code",
   "execution_count": 34,
   "id": "9874022e-9e5a-45ca-825b-e9502b04d41d",
   "metadata": {},
   "outputs": [],
   "source": [
    "# import pandas as pd\n",
    "# from collections import defaultdict"
   ]
  },
  {
   "cell_type": "code",
   "execution_count": 35,
   "id": "7de29ec2-5636-4c9e-9ef6-27a54667f7ae",
   "metadata": {},
   "outputs": [],
   "source": [
    "# result_dict = defaultdict(list)\n",
    "\n",
    "# for k, v in enumerate(result_data):\n",
    "#     for kk, vv in enumerate(v):\n",
    "#         result_dict[f\"{k}_{kk}\"].append(vv)"
   ]
  },
  {
   "cell_type": "code",
   "execution_count": 36,
   "id": "d2d31d51-d65c-47bb-9f10-91901ca7174e",
   "metadata": {},
   "outputs": [],
   "source": [
    "# df = pd.DataFrame.from_dict(result_dict, orient='index')"
   ]
  },
  {
   "cell_type": "code",
   "execution_count": 37,
   "id": "810801b1-2c1f-4402-99d1-db1c5e02d2cf",
   "metadata": {},
   "outputs": [],
   "source": [
    "# df.reset_index(inplace=True)"
   ]
  },
  {
   "cell_type": "code",
   "execution_count": 38,
   "id": "8b4aa03c-f6d3-4582-bc2f-6215377714e5",
   "metadata": {},
   "outputs": [],
   "source": [
    "# df.head()"
   ]
  },
  {
   "cell_type": "code",
   "execution_count": 39,
   "id": "8573c504-fd3b-4dc8-9bbd-235fb05e9eae",
   "metadata": {},
   "outputs": [],
   "source": [
    "# df.rename(columns={0:'content', 'index':'room'}, inplace=True)"
   ]
  },
  {
   "cell_type": "code",
   "execution_count": 40,
   "id": "61135e10-e0e9-4c29-9c47-141da473cdfc",
   "metadata": {},
   "outputs": [],
   "source": [
    "# df['room_no'] = df.room.apply(lambda x: x[:1])"
   ]
  },
  {
   "cell_type": "code",
   "execution_count": 41,
   "id": "bb7e59de-a0e2-491b-a3ef-926078ed7c2b",
   "metadata": {},
   "outputs": [],
   "source": [
    "# df['speaker'] = df.content.apply(lambda x: x[:1])"
   ]
  },
  {
   "cell_type": "code",
   "execution_count": 42,
   "id": "9feed2db-6bd6-4555-8ba5-d5b8b2478a94",
   "metadata": {},
   "outputs": [],
   "source": [
    "# df['content'] = df.content.apply(lambda x: x.replace('1:', '').replace('2:', ''))"
   ]
  },
  {
   "cell_type": "code",
   "execution_count": 43,
   "id": "4dc40016-973a-4e09-9f5e-79c9fa65c010",
   "metadata": {},
   "outputs": [],
   "source": [
    "# del df['room']"
   ]
  },
  {
   "cell_type": "code",
   "execution_count": 44,
   "id": "13212235-64b4-4eb9-98b3-c5b81c86f52f",
   "metadata": {},
   "outputs": [],
   "source": [
    "# df.head(20)"
   ]
  },
  {
   "cell_type": "code",
   "execution_count": 45,
   "id": "8f953f17-6787-44a2-902c-850f6f306d81",
   "metadata": {},
   "outputs": [],
   "source": [
    "# df.shape"
   ]
  },
  {
   "cell_type": "markdown",
   "id": "4bbe7595-171c-45f7-b4c5-e7a0ddbb32cd",
   "metadata": {},
   "source": [
    "# "
   ]
  },
  {
   "cell_type": "markdown",
   "id": "2ff71521-f913-412e-a18e-d13594952621",
   "metadata": {},
   "source": [
    "# json save"
   ]
  },
  {
   "cell_type": "code",
   "execution_count": 46,
   "id": "0b13cf6a-2a23-497e-9bb3-add4a61523db",
   "metadata": {},
   "outputs": [],
   "source": [
    "import json\n",
    "import config"
   ]
  },
  {
   "cell_type": "code",
   "execution_count": 47,
   "id": "bfff5ccf-9f9a-49b1-9681-f1ea6393649e",
   "metadata": {},
   "outputs": [
    {
     "data": {
      "text/html": [
       "<div>\n",
       "<style scoped>\n",
       "    .dataframe tbody tr th:only-of-type {\n",
       "        vertical-align: middle;\n",
       "    }\n",
       "\n",
       "    .dataframe tbody tr th {\n",
       "        vertical-align: top;\n",
       "    }\n",
       "\n",
       "    .dataframe thead th {\n",
       "        text-align: right;\n",
       "    }\n",
       "</style>\n",
       "<table border=\"1\" class=\"dataframe\">\n",
       "  <thead>\n",
       "    <tr style=\"text-align: right;\">\n",
       "      <th></th>\n",
       "      <th>content</th>\n",
       "      <th>room_no</th>\n",
       "      <th>speaker</th>\n",
       "    </tr>\n",
       "  </thead>\n",
       "  <tbody>\n",
       "    <tr>\n",
       "      <th>0</th>\n",
       "      <td>이제 위드 코로나 하면 회식 시작하겠구만</td>\n",
       "      <td>0</td>\n",
       "      <td>1</td>\n",
       "    </tr>\n",
       "    <tr>\n",
       "      <th>1</th>\n",
       "      <td>11월달부터 위드 코로나 하려나 보던데요</td>\n",
       "      <td>0</td>\n",
       "      <td>2</td>\n",
       "    </tr>\n",
       "    <tr>\n",
       "      <th>2</th>\n",
       "      <td>그러게 슬슬 준비하고 있네</td>\n",
       "      <td>0</td>\n",
       "      <td>1</td>\n",
       "    </tr>\n",
       "    <tr>\n",
       "      <th>3</th>\n",
       "      <td>회식 좋아하는 사람들에게 희소식이겠네요</td>\n",
       "      <td>0</td>\n",
       "      <td>2</td>\n",
       "    </tr>\n",
       "    <tr>\n",
       "      <th>4</th>\n",
       "      <td>그러게 신입 사원들은 이제 큰일이네</td>\n",
       "      <td>0</td>\n",
       "      <td>1</td>\n",
       "    </tr>\n",
       "  </tbody>\n",
       "</table>\n",
       "</div>"
      ],
      "text/plain": [
       "                  content  room_no speaker\n",
       "0  이제 위드 코로나 하면 회식 시작하겠구만        0       1\n",
       "1  11월달부터 위드 코로나 하려나 보던데요        0       2\n",
       "2          그러게 슬슬 준비하고 있네        0       1\n",
       "3   회식 좋아하는 사람들에게 희소식이겠네요        0       2\n",
       "4     그러게 신입 사원들은 이제 큰일이네        0       1"
      ]
     },
     "execution_count": 47,
     "metadata": {},
     "output_type": "execute_result"
    }
   ],
   "source": [
    "df.head()"
   ]
  },
  {
   "cell_type": "code",
   "execution_count": 48,
   "id": "098010c1-cb14-4d81-9fb1-efc573da831a",
   "metadata": {},
   "outputs": [],
   "source": [
    "temp_dict = [{\"content\": row['content'], \"room_no\": row['room_no'], \"speaker\": row['speaker']} for _, row in df.iterrows()]"
   ]
  },
  {
   "cell_type": "code",
   "execution_count": 49,
   "id": "036b7269-187b-4eef-9833-23f3867bb136",
   "metadata": {},
   "outputs": [],
   "source": [
    "with open(config.train_json, 'w', encoding='utf-8') as f:\n",
    "    for line in temp_dict:\n",
    "        json_record = json.dumps(line, ensure_ascii=False)\n",
    "        f.write(json_record + '\\n')"
   ]
  },
  {
   "cell_type": "code",
   "execution_count": null,
   "id": "52f3d2ab-cdc5-496b-806e-44b499419a87",
   "metadata": {},
   "outputs": [],
   "source": []
  }
 ],
 "metadata": {
  "kernelspec": {
   "display_name": "Python 3",
   "language": "python",
   "name": "python3"
  },
  "language_info": {
   "codemirror_mode": {
    "name": "ipython",
    "version": 3
   },
   "file_extension": ".py",
   "mimetype": "text/x-python",
   "name": "python",
   "nbconvert_exporter": "python",
   "pygments_lexer": "ipython3",
   "version": "3.8.10"
  }
 },
 "nbformat": 4,
 "nbformat_minor": 5
}
